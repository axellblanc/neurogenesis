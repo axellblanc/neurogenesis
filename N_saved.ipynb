{
 "cells": [
  {
   "cell_type": "markdown",
   "metadata": {},
   "source": [
    "\n",
    "<div style=\"font-size:22pt; line-height:25pt; font-weight:bold; text-align:center;\">On the role of neurogenesis in overcoming catastrophic forgetting</div>"
   ]
  },
  {
   "cell_type": "markdown",
   "metadata": {},
   "source": [
    "## Plan: \n",
    "\n",
    "\n",
    "1. [Definitions](#sec1)\n",
    "2. [Introduction](#sec2)\n",
    "2. [Self Organizing networks](#sec3)\n",
    "4. [Criterias for the plasticity](#sec4)\n",
    "5. [How to classify more complex data:](#sec5)\n",
    "6. [Comparison of a dynamically grown and a static network](#sec6)\n",
    "7. [Conclusion](#sec7)\n",
    "8. [Sources](#sec8)"
   ]
  },
  {
   "cell_type": "markdown",
   "metadata": {},
   "source": [
    "# <a id=\"sec1\"></a> 1. Definitions:\n",
    "\n",
    "A few technical terms need to be defined in order to fully understand the matter:<br><br>\n",
    "\n",
    "- **plasticity**: <br> <p>\n",
    " (*biology*) the adaptability of an organism to changes in its environments. Neuroplasticity refers to the ability of the brain to change continuously throughout an individual's life. We can easily understand what it refers to in Deep Learning.\n",
    "<br><br>\n",
    "\n",
    "- **stability**: <br> <p> (*of a neural network*) the ability to keep a stable classification accuracy of the function it had previously learned while being trained on other ones. \n",
    "<br><br>\n",
    "\n",
    "<img align=\"right\" img src=\"im1.png\" width=\"400\" title='catastrophic forgetting'>\n",
    "    \n",
    "- **catastrophic forgetting**: <br> <p>\n",
    "(or *catastrophic interference*) the tendency of a neural network to 'forget' previously learned information upon learning new information. \n",
    "As an example, if a classification model being trained is shifted to a different set of objects, it will proceed to forget the original set due to a representation shift. \n",
    "<br> Let's say you would like to train a neural network in order to recognize a specific object on a large dataset of images. If you first train the neural network with images where the object is seen on a close range, from the side, and then on a set where it is seen from above, and from far away, it will proceed to forget the information it learned with the first set. This raises issues, for instance, when carrying out unsupervised learning on videos.\n",
    "<br> This issue can be seen as a _stability-plasticity_ dilemma. On the one side, when a neural network is being trained on very different elements, we would like it to have a good plasticity, that would allow it to quickly learn the new elements, but on the other side, it would be perfect for the network to have a good stability, and therefore remember well the items seen long ago.    <br><br>\n",
    "    \n",
    "\n",
    "\n",
    "- **neurogenesis**: <br> <p>\n",
    "(*biology*): the process by which neurons are formed in the brain.<br>\n",
    "(*neural network*):  the ability to create or delete neurons. Neurons of this kind are *dynamically grown*. <br><br>\n",
    "    \n",
    "\n",
    "\n"
   ]
  },
  {
   "cell_type": "markdown",
   "metadata": {},
   "source": [
    "# 2. <a id=\"sec2\"></a> Introduction:\n",
    "<br><br>\n",
    "This notebook was made for exploring how the use of neurogenesis might mitigate, or even overcome catastrophic forgetting. <br>\n",
    "The first part will focus on an introduction of self-organizing networks, along with some very straightforward implementation of it. You will then find a description of neurogenesis, and how giving neural networks the capacity to grow new neurons might help. \n",
    "<br><br>\n",
    "Finally, you'll also find a comparison of the performances of a static and a growing network.\n",
    "\n",
    "However, we can imagine that giving a neural network the opportunity to create new neurons might give it a technical advantage as it could get many more neurons than the static one. Hence, the number of neurons of the dynamically grown networks will be bounded by the one of the static neural networks throughout this notebook.<br><br>"
   ]
  },
  {
   "cell_type": "markdown",
   "metadata": {},
   "source": [
    "<br><br> \n",
    "# 3. <a id=\"sec3\"></a>Self Organizing Networks\n",
    "\n",
    "### 1 - Description\n",
    "**Self Organizing Networks** are neural networks based on the topographical organization of the brain. Unlike those trained with backpropagation, self organizing networks are unsupervized. The neurons concerning the same type of information are therefore wired, or located in a similar spatial location. This is based on observations of the brain. For instance, neurons in the visual cortex activates when a bar of light is seen at a specific angle. Neurons that respond to similar bars are located next to each other in the visual cortex. Hence, there is no error feedback, or no supervision in the training of these networks.<br><br>   <img src=\"visual_cortex.png\" width=\"350\" title='visual cortex'>  <br><br>\n"
   ]
  },
  {
   "cell_type": "markdown",
   "metadata": {},
   "source": [
    "### 2 - Training\n",
    "The network is composed of a set of neurons, $A$, each neuron consisting of a weight vector $w_j \\in \\mathbb{R}^{n}$.<br> A self-organized neural network would therefore look the following way:\n",
    "<br><br>   <img src='im3.png' width=\"400\" title='self-organized neural network'>\n",
    "<br><br>\n",
    "Training the network is done in a very simple way:\n",
    "\n",
    "Given an input $x(t) \\in \\mathbb{R}^{n}$: <br>\n",
    "- We compute the distance $d_j$ of each neuron to the input. That is to say the distance between the weight vector of the neuron and the weight vector. $d_{j} = \\alpha_{0} \\lVert x (t) - w_{j}\\lVert^{2}$, with $\\lVert\\lVert$ as the euclidian norm.\n",
    "- We compute the 'best-matching unit' or BMU: $b = argmin(d_{j}, j \\in A)$\n",
    "- We then update the weights of the neurons that are connected to the BMU, with, for $i\\in \\{b,n\\}$, $n$ being the neighbors neurons of the BMU: $\\Delta w_{i} = \\epsilon_{i}h_{i}(x(t)-w_{i})$, with $h_i \\in [0,1]$ being an 'habituation counter', that is to say an indicator of how frequently the neuron has fired. For each neuron $i$, $h_i = 1$ at the beginning of the training. \n",
    "- The habituation counter of the BMU and its neighboring neurons decreases iteratively towards 0: $\\Delta h_{i} = \\tau_{i}\\kappa(1-h_{i}) - \\tau_{i}$, with $i\\in \\{b,n\\}$, or: $h{i}(t+1) = \\frac{h{i}(t)}{\\tau}$\n",
    "\n",
    "<br><br>\n",
    "Using this technique, the network will map from the input space to an usually lower dimensional map field. Hence, once the BMU (the node that best matches the input) is found, its weights vector is moved in the dimensional space towards that of the input. Hence, perceptions that look like each other end up close to each other (resembling the neuronal organization in the brain). <br><br>\n",
    "On the figure below, the blue cloud is the distribution of the training data. The weights are primarily randomly chosen, positionning the neurons arbitrarily in the data space. When a new input is given (white point), the BMU is, along with some of its neighbors, moved closer to the input's position. Iterations after iterations, the neural network (or grid) tends to approximate the distribution.\n",
    "<br><br>   <img src='im5.png' width=\"800\" title='training process of a self-organizing neural network, projected in 2D'>\n",
    "<br><br>\n",
    "\n",
    "\n",
    "<img align=\"right\" img src='im4.gif' width=\"200\" title='animated training process of a self-organizing neural network, projected in 2D'>\n",
    "Let's dive into an useful application of thos networks. Imagine that you would like to classify datapoints according to the three clusters on the image on the right. You could train such a network in order to map the distribution, you can afterward add an output layer, and create connections between the hidden and output layers so that the net produces the same output if any nodes in a particular neighborhood is activated, that is to say when the distance between its weights and the input is the shortest. \n",
    "<br><br>\n"
   ]
  },
  {
   "cell_type": "markdown",
   "metadata": {},
   "source": [
    "### 3 - A straightforward example"
   ]
  },
  {
   "cell_type": "markdown",
   "metadata": {},
   "source": [
    "Let's say that we whould like to classify some information on a very simple case, in order to better grasp what is happening there. <br><br>\n",
    "\n",
    "\\begin{equation*}\n",
    "data = \n",
    "\\begin{pmatrix}\n",
    "1 & 1 & 0 & 0 \\\\\n",
    "0 & 0 & 1 & 0 \\\\\n",
    "0  & 1  & 0 & 0  \\\\\n",
    "0 & 0 & 1 & 1 \n",
    "\\end{pmatrix}\n",
    "\\end{equation*}\n",
    "<br><br>\n",
    "The rows represent some measures we have made, and we would like to categorize those in two clusters. We might imagine that the first and third raws will be in the same clusters, and the second and third ones also.<br><br>\n",
    "\n",
    "\n",
    "Our neural network will look like the following (with two *output* cells in order to get two classes):\n",
    "\n",
    "<br><br>   <img src='im2.png' width=\"400\" title='simple self-organized neural network'>\n",
    "<br><br>\n",
    "\n",
    "\n",
    "\n",
    "We will keep, for all $i \\in \\mathbb{N}$, $h_{i}(t+1) = \\frac{h_{i}(t)}{2}$ and $\\epsilon_i = 0.6$, and randomly initialize the weight matrix to: <br> <br>\n",
    "\\begin{equation*}\n",
    "W = \n",
    "\\begin{pmatrix}\n",
    "0.2 & 0.8 \\\\\n",
    "0.6 & 0.4 \\\\\n",
    "0.5 & 0.7 \\\\\n",
    "0.9 & 0.3\n",
    "\\end{pmatrix}\n",
    "\\end{equation*}"
   ]
  },
  {
   "cell_type": "markdown",
   "metadata": {},
   "source": [
    "Let's compute the distance for the first vector, $(1,1,0,0)$: <br><br>\n",
    "We get: \n",
    "\\begin{equation*}\n",
    "d_1 = (0.2-1)^2 + (0.6-1)^2 + (0.5-0)^2 + (0.9-0)^2 = 1.86\n",
    "\\end{equation*}\n",
    "\\begin{equation*}\n",
    "d_2 = (0.8-1)^2 + (0.4-1)^2 + (0.7-0)^2 + (0.3-0)^2 = 0.98\n",
    "\\end{equation*}\n",
    "\n",
    "Hence, the first vector is closer to the output node 2, we can therefore update the weights of this node using:\n",
    "\\begin{equation*}\n",
    "w_i{}(t+1)=w_{i}(t)+0.6(x –w_{i}(t))\n",
    "\\end{equation*}\n",
    "<br>Therefore, we get: \n",
    "\\begin{equation*}\n",
    "W = \n",
    "\\begin{pmatrix}\n",
    "0.2 & 0.92 \\\\\n",
    "0.6 & 0.76 \\\\\n",
    "0.5 & 0.28 \\\\\n",
    "0.9 & 0.12\n",
    "\\end{pmatrix}\n",
    "\\end{equation*}\n",
    "<br>We repeat those operations for the other vectors in order to complete a first cycle of learning."
   ]
  },
  {
   "cell_type": "markdown",
   "metadata": {},
   "source": [
    "\n",
    "\n",
    "By repeating those cycle a hundred times, we get:\n",
    " \n",
    "\\begin{equation*}\n",
    "W_{100} = \n",
    "\\begin{pmatrix}\n",
    "6e-17 & 1 \\\\\n",
    "2e-16 & 0.49 \\\\\n",
    "0.51 & 2e-16 \\\\\n",
    "1 & 1e-16\n",
    "\\end{pmatrix}\n",
    "\\end{equation*}\n",
    "\n",
    "And the matrix keeps converging towards:\n",
    "\\begin{equation*}\n",
    "W_{inf} = \n",
    "\\begin{pmatrix}\n",
    "0 & 1 \\\\\n",
    "0 & 0.5 \\\\\n",
    "0.5 & 0\\\\\n",
    "1 & 0\n",
    "\\end{pmatrix}\n",
    "\\end{equation*}\n",
    "<br><br>\n",
    "The first column being the average of the vectors in the first cluster, and the second being the average of the ones in the second. Hence, if we compute the distance of each vector to its cluster we get:\n",
    "\\begin{equation*}\n",
    "d_{cluster 1} = (0)^2 + (0.5)^2 + (0)^2 + (0)^2 = 1.25\n",
    "\\end{equation*}\n",
    "And to the other cluster:\n",
    "\\begin{equation*}\n",
    "d_{cluster 2} \\geq (1)^2 + (0.5)^2 + (1)^2  = 1.25\n",
    "\\end{equation*}\n",
    "\n",
    "Therefore, those vectors have been classified, and we could now classify other vectors by computing their distance to the weight matrix."
   ]
  },
  {
   "cell_type": "markdown",
   "metadata": {},
   "source": [
    "### 4 - Intuition\n",
    "\n",
    "Let's try to grasp what happened there:\n",
    "- The network adapted its weights so that the neurons corresponding to the different clusters have weights corresponding to the inputs that correspond to those clusters.\n",
    "- This reminds us of what we had seen about the visual cortex: neurons that correspond to the same category of inputs, or the same clusters, get activated at the same time, and are linked by weights: they are located in a similar spatial location.\n"
   ]
  },
  {
   "cell_type": "markdown",
   "metadata": {},
   "source": [
    "### 5.  Simulation:\n",
    "Let's classify vectors the same way it was done in the examples."
   ]
  },
  {
   "cell_type": "code",
   "execution_count": 29,
   "metadata": {},
   "outputs": [],
   "source": [
    "import numpy as np"
   ]
  },
  {
   "cell_type": "markdown",
   "metadata": {},
   "source": [
    "#### training data creation:\n",
    "Our training matrix will be a block diagonal matrix:\n",
    "\n",
    "\\begin{equation*}\n",
    "data = \n",
    "\\begin{pmatrix}\n",
    "(...) & 0 & 0 & 0 \\\\\n",
    "0 & (...) & 0 & 0 \\\\\n",
    "0  & 0  & (...) & 0  \\\\\n",
    "0 & 0 & 0 & (...) \n",
    "\\end{pmatrix}\n",
    "\\end{equation*}\n",
    "\n",
    "Each class being composed of the lines corresponding to one block.\n",
    "\n"
   ]
  },
  {
   "cell_type": "code",
   "execution_count": 30,
   "metadata": {},
   "outputs": [],
   "source": [
    "def create_dataset(classes, size_data, length_data, verbose = False):\n",
    "    \"\"\"\n",
    "    Creates a block diagonal matrix composed with:\n",
    "    - classes blocks\n",
    "    - length_data rows\n",
    "    - size_data columns\n",
    "    \"\"\"\n",
    "    data = []\n",
    "    for c in range(classes):\n",
    "        for k in range(length_data//classes):\n",
    "            line = [0 for l in range(size_data)]\n",
    "            for i in range(size_data//classes * c, size_data//classes * (c + 1)):\n",
    "                u = np.random.uniform(9,10)\n",
    "                line[i] = np.random.uniform(u+1,u + 2)\n",
    "                #line[i] = 1\n",
    "            data.append(line)\n",
    "        if(verbose):\n",
    "            print('class',c+1,'sample line: ', line)\n",
    "    for j in range(length_data%classes):\n",
    "        line = [0 for l in range(size_data)]\n",
    "        for i in range(size_data//classes * (classes-1), size_data//classes * (classes)):\n",
    "            u = np.random.uniform(9,10)\n",
    "            line[i] = np.random.uniform(u+1,u + 2)\n",
    "        data.append(line)\n",
    "    return data"
   ]
  },
  {
   "cell_type": "code",
   "execution_count": 31,
   "metadata": {},
   "outputs": [
    {
     "name": "stdout",
     "output_type": "stream",
     "text": [
      "class 1 sample line:  [11.139625978373571, 11.087818286183559, 0, 0, 0, 0, 0, 0, 0, 0, 0, 0]\n",
      "class 2 sample line:  [0, 0, 11.391507643351073, 10.847913702801877, 0, 0, 0, 0, 0, 0, 0, 0]\n",
      "class 3 sample line:  [0, 0, 0, 0, 10.997386833015872, 11.142281477037152, 0, 0, 0, 0, 0, 0]\n",
      "class 4 sample line:  [0, 0, 0, 0, 0, 0, 11.439073746646336, 10.905364376929091, 0, 0, 0, 0]\n",
      "class 5 sample line:  [0, 0, 0, 0, 0, 0, 0, 0, 11.085466506841271, 11.253021664943649, 0, 0]\n",
      "class 6 sample line:  [0, 0, 0, 0, 0, 0, 0, 0, 0, 0, 10.906170680046094, 11.140639783242548]\n"
     ]
    }
   ],
   "source": [
    "classes = 6\n",
    "size_data = 12\n",
    "length_data = 500\n",
    "nb_active_neurons = 2\n",
    "max_output_neurons = 8\n",
    "\n",
    "data = create_dataset(classes,size_data, length_data, True)"
   ]
  },
  {
   "cell_type": "markdown",
   "metadata": {},
   "source": [
    "#### static self-organizing network\n",
    "It will consist in:\n",
    "- *size_data* input cells\n",
    "- *max_output_neurons* output cells"
   ]
  },
  {
   "cell_type": "code",
   "execution_count": 32,
   "metadata": {},
   "outputs": [],
   "source": [
    "def distance(inp, W, nb_active_neurons):\n",
    "    \"\"\"\n",
    "    Returns an array with the distance between the input and the weights of each one of the 'output layer' neurons\n",
    "    \"\"\"    \n",
    "    return [sum(np.square(inp - W[j])) for j in range(nb_active_neurons)]\n",
    "\n",
    "\n",
    "def train_cycle_static(inp,W_static):\n",
    "    \"\"\"\n",
    "    For a static network W:\n",
    "    Finds the BMU correponding to the input\n",
    "    updates W and h accordingly\n",
    "    \"\"\"\n",
    "    bmu = np.argmin(distance(inp, W_static, max_output_neurons))\n",
    "    W_static[bmu] += h_static[bmu] * epsilon_static[bmu] * (inp - W_static[bmu])\n",
    "    h_static[bmu] = h_static[bmu] * (1 - tau * kappa) + tau * (kappa - 1)\n",
    "\n",
    "    \n",
    "def train_network_static(data, W):\n",
    "    \"\"\"\n",
    "    For a static network W:\n",
    "    Trains the network on data\n",
    "    \"\"\"\n",
    "    for i in range(len(data)):\n",
    "        train_cycle_static(np.array(data[i]),W_static)\n",
    "    print('final h :\\n', h_static, '\\n\\n')"
   ]
  },
  {
   "cell_type": "code",
   "execution_count": 33,
   "metadata": {},
   "outputs": [
    {
     "name": "stdout",
     "output_type": "stream",
     "text": [
      "final h :\n",
      " [1. 1. 1. 1. 1. 1. 1. 1.] \n",
      "\n",
      "\n"
     ]
    }
   ],
   "source": [
    "tau = 0 # To complete\n",
    "kappa = 0 # To complete\n",
    "\n",
    "W_static = np.random.rand(max_output_neurons, size_data)\n",
    "epsilon_static = np.array([0.6 for j in range(max_output_neurons)])\n",
    "h_static = np.array([1. for j in range(max_output_neurons)])\n",
    "\n",
    "train_network_static(data, W_static)"
   ]
  },
  {
   "cell_type": "markdown",
   "metadata": {},
   "source": [
    "<div class=\"alert alert-success\">\n",
    "    \n",
    "**Exercise 1:**<br>\n",
    "Modify $\\tau$ and $\\kappa$ in order to get a network that has as many output neurons as classes (the number that was chosen when the dataset was created).\n",
    "</div>"
   ]
  },
  {
   "cell_type": "markdown",
   "metadata": {},
   "source": [
    "<div class=\"alert alert-warning\">\n",
    "    \n",
    "**Hint:**<br>\n",
    "\n",
    "    \n",
    "- 'final h' shows you the h of each output neuron at the end of the training. Hence, if the network had learnt only four classes, there should only be four h very close to 0 (very trazined neurons). the other ones should be closer to 1.\n",
    "</div>"
   ]
  },
  {
   "cell_type": "code",
   "execution_count": 36,
   "metadata": {},
   "outputs": [],
   "source": [
    "# %load solutions/code1.py"
   ]
  },
  {
   "cell_type": "markdown",
   "metadata": {},
   "source": [
    "As we can see above, with the right $\\tau$ and $\\kappa$, the self-organizing network learned how many classes there are without being told before (only some output neurons were trained throughough the process). <br><br>\n",
    "\n",
    "TEST: Let's generate some new data and test the accuracy of the network on it:"
   ]
  },
  {
   "cell_type": "code",
   "execution_count": 37,
   "metadata": {},
   "outputs": [],
   "source": [
    "def most_frequent(List): \n",
    "    \"\"\"\n",
    "    Finds the most frequent item in an array\n",
    "    \"\"\"\n",
    "    counter = 0\n",
    "    num = List[0] \n",
    "      \n",
    "    for i in List: \n",
    "        curr_frequency = List.count(i) \n",
    "        if(curr_frequency> counter): \n",
    "            counter = curr_frequency \n",
    "            num = i \n",
    "    return num \n",
    "\n",
    "length_data_test = 500\n",
    "\n",
    "\n",
    "def test_network(W_static, length_data_test, nb_neurons, verbose = False):\n",
    "    \"\"\"\n",
    "    Prints the neurons that was activated for a specific class and the precision of the predictions on this class\n",
    "    \"\"\"\n",
    "    data_test = create_dataset(classes,size_data,length_data_test)\n",
    "    y_pred = []\n",
    "    for c in range(classes):\n",
    "        pred_c = []\n",
    "        for j in range(length_data_test//classes):\n",
    "            pred_c.append(np.argmin(distance(data_test[(length_data_test//classes) * c + j], W_static, nb_neurons)))\n",
    "        y_pred.append(pred_c)\n",
    "    for k in range(len(y_pred)):\n",
    "        m = most_frequent(y_pred[k])\n",
    "        if(verbose):\n",
    "            print('the ', k, 'th class has activated neuron number ', m ,' with a precision of ', y_pred[k].count(m)/len(y_pred[k]) )"
   ]
  },
  {
   "cell_type": "code",
   "execution_count": 38,
   "metadata": {},
   "outputs": [
    {
     "name": "stdout",
     "output_type": "stream",
     "text": [
      "the  0 th class has activated neuron number  1  with a precision of  1.0\n",
      "the  1 th class has activated neuron number  4  with a precision of  1.0\n",
      "the  2 th class has activated neuron number  6  with a precision of  1.0\n",
      "the  3 th class has activated neuron number  7  with a precision of  1.0\n",
      "the  4 th class has activated neuron number  2  with a precision of  1.0\n",
      "the  5 th class has activated neuron number  3  with a precision of  1.0\n"
     ]
    }
   ],
   "source": [
    "test_network(W_static, 500, max_output_neurons, True)"
   ]
  },
  {
   "cell_type": "markdown",
   "metadata": {},
   "source": [
    "Hence, for this pretty simple classification task, the self organized neural network has performed very well. Here, each neuron corresponds to one class, and the predictions are made with a very good accuracy."
   ]
  },
  {
   "cell_type": "markdown",
   "metadata": {},
   "source": [
    "# 4. <a id=\"sec4\"></a>Criterias for the plasticity:\n",
    "\n",
    "\n",
    "Neurogenesis in neural networks creates a structural plasticity, giving the network the ability to modify its architecture in order to learn new patterns, instead of relying on the sole modification of weights that previously learned other pattern. This might mitigate the disruptive interference of existing internal representations when learing from novel sensory observations. We will now introduce criterias in order to find out how and when to add a neuron to the network:\n",
    "- We will first determine two thresholds: $a_{T}$ and $h_{T}$\n",
    "- At each iteration, we will compute the activity of the network as: $a(t) = exp(-d_{b})$ right after having found the best matching unit. The highest possible activity is therefore 1, when $d_b = 0$ and the network perfectly matches the input. \n",
    "- After each iterations, a new neuron will be created whenever the activity of the network will be below $a_{T}$, and the habituation counter of the BMU $h_{b}$ will be below $h_{T}$. The first condition will ensure that a neuron will only be created when none of the existing neurons really matches the new input (it will allow us to get neurons matching this kind of inputs without having to modify the previous ones). The second contition will ensure that the already existing neurons have already been trained before new ones are added.\n",
    "\n",
    "The newly created neurons are fully connected, and have an habituation counter of $h=1$, and are created halfway between the BMU and the input.\n",
    "\n",
    "This set of rules will allow the network to add neurons, and the network will be initialized with two neurons (outputs), which is the minimum for required for the discriminative ability (we need at least two classes or clusters).\n"
   ]
  },
  {
   "cell_type": "markdown",
   "metadata": {},
   "source": [
    "#### self-organized network with plasticity:\n",
    "Our initial growing self-organized neural network will consist in:\n",
    "- size_data input cells\n",
    "- two output cells\n",
    "\n",
    "Some room will be left in the weights matrix in order to create new neurons if needed."
   ]
  },
  {
   "cell_type": "code",
   "execution_count": 39,
   "metadata": {},
   "outputs": [],
   "source": [
    "def train_cycle_growing(inp,W, nb_active_neurons):\n",
    "    \"\"\"\n",
    "    For a growing network W:\n",
    "    Finds the BMU correponding to the input\n",
    "    updates W and h accordingly\n",
    "    \"\"\"\n",
    "    bmu = np.argmin(distance(inp, W, nb_active_neurons))\n",
    "    activity = np.exp(-np.min(distance(inp, W, max_output_neurons)))\n",
    "    if(h[bmu] < hT and activity < aT and nb_active_neurons < max_output_neurons and np.all(h[:nb_active_neurons] != 1)):\n",
    "        # and np.all(h[:nb_active_neurons] <= 0.01)\n",
    "        W[nb_active_neurons] = (W[bmu] + inp)/2\n",
    "        nb_active_neurons += 1\n",
    "    else:\n",
    "        W[bmu] += h[bmu] * epsilon[bmu] * (inp - W[bmu])\n",
    "        h[bmu] = 0.95*h[bmu]\n",
    "    return nb_active_neurons\n",
    "\n",
    "\n",
    "\n",
    "def train_network_growing(W,data,verbose = False):\n",
    "    \"\"\"\n",
    "    For a growing network W:\n",
    "    trains the network on data\n",
    "    \"\"\"\n",
    "    nb = 2\n",
    "    for i in range(len(data)):\n",
    "        nb = train_cycle_growing(np.array(data[i]),W, nb)\n",
    "    if(verbose):\n",
    "        print(nb - 2,' new neuron were added to the network \\n')\n",
    "        print('h: \\n', h, '\\n\\n')\n",
    "        print('W: \\n', W)"
   ]
  },
  {
   "cell_type": "code",
   "execution_count": 40,
   "metadata": {},
   "outputs": [
    {
     "name": "stdout",
     "output_type": "stream",
     "text": [
      "randomly initialized weights matrix, with only two active output neurons: \n",
      "\n",
      " [[0.20464522 0.05678949 0.37820554 0.64874506 0.57788832 0.88380827\n",
      "  0.45009433 0.82943197 0.90156238 0.5111009  0.97858232 0.44279177]\n",
      " [0.71407642 0.66021234 0.80873545 0.30307321 0.105711   0.42193515\n",
      "  0.58016514 0.91926184 0.45254547 0.07520512 0.00443385 0.81917291]\n",
      " [0.         0.         0.         0.         0.         0.\n",
      "  0.         0.         0.         0.         0.         0.        ]\n",
      " [0.         0.         0.         0.         0.         0.\n",
      "  0.         0.         0.         0.         0.         0.        ]\n",
      " [0.         0.         0.         0.         0.         0.\n",
      "  0.         0.         0.         0.         0.         0.        ]\n",
      " [0.         0.         0.         0.         0.         0.\n",
      "  0.         0.         0.         0.         0.         0.        ]\n",
      " [0.         0.         0.         0.         0.         0.\n",
      "  0.         0.         0.         0.         0.         0.        ]\n",
      " [0.         0.         0.         0.         0.         0.\n",
      "  0.         0.         0.         0.         0.         0.        ]]\n"
     ]
    }
   ],
   "source": [
    "aT = 0. # to complete\n",
    "hT = 0. # to complete\n",
    "\n",
    "W = np.random.rand(2, size_data)\n",
    "W = np.r_[W, np.zeros((max_output_neurons - 2, size_data))]\n",
    "\n",
    "epsilon = np.array([0.6 for j in range(max_output_neurons)])\n",
    "h = np.array([1. for j in range(max_output_neurons)])\n",
    "\n",
    "print('randomly initialized weights matrix, with only two active output neurons: \\n\\n', W)"
   ]
  },
  {
   "cell_type": "code",
   "execution_count": 41,
   "metadata": {},
   "outputs": [
    {
     "name": "stdout",
     "output_type": "stream",
     "text": [
      "0  new neuron were added to the network \n",
      "\n",
      "h: \n",
      " [1.41598691e-02 5.13740028e-10 1.00000000e+00 1.00000000e+00\n",
      " 1.00000000e+00 1.00000000e+00 1.00000000e+00 1.00000000e+00] \n",
      "\n",
      "\n",
      "W: \n",
      " [[1.05393512e-07 2.92469262e-08 1.10789806e+01 1.09758684e+01\n",
      "  2.97615946e-07 4.55166553e-07 2.31801273e-07 4.27162431e-07\n",
      "  4.64310024e-07 2.63220024e-07 5.03975753e-07 2.28040415e-07]\n",
      " [9.31002559e+00 9.16531616e+00 3.51287536e-07 1.31644831e-07\n",
      "  1.69516381e+00 1.69210986e+00 2.60768370e-02 2.58880380e-02\n",
      "  3.68585688e-04 3.69599200e-04 5.29306048e-06 5.59233808e-06]\n",
      " [0.00000000e+00 0.00000000e+00 0.00000000e+00 0.00000000e+00\n",
      "  0.00000000e+00 0.00000000e+00 0.00000000e+00 0.00000000e+00\n",
      "  0.00000000e+00 0.00000000e+00 0.00000000e+00 0.00000000e+00]\n",
      " [0.00000000e+00 0.00000000e+00 0.00000000e+00 0.00000000e+00\n",
      "  0.00000000e+00 0.00000000e+00 0.00000000e+00 0.00000000e+00\n",
      "  0.00000000e+00 0.00000000e+00 0.00000000e+00 0.00000000e+00]\n",
      " [0.00000000e+00 0.00000000e+00 0.00000000e+00 0.00000000e+00\n",
      "  0.00000000e+00 0.00000000e+00 0.00000000e+00 0.00000000e+00\n",
      "  0.00000000e+00 0.00000000e+00 0.00000000e+00 0.00000000e+00]\n",
      " [0.00000000e+00 0.00000000e+00 0.00000000e+00 0.00000000e+00\n",
      "  0.00000000e+00 0.00000000e+00 0.00000000e+00 0.00000000e+00\n",
      "  0.00000000e+00 0.00000000e+00 0.00000000e+00 0.00000000e+00]\n",
      " [0.00000000e+00 0.00000000e+00 0.00000000e+00 0.00000000e+00\n",
      "  0.00000000e+00 0.00000000e+00 0.00000000e+00 0.00000000e+00\n",
      "  0.00000000e+00 0.00000000e+00 0.00000000e+00 0.00000000e+00]\n",
      " [0.00000000e+00 0.00000000e+00 0.00000000e+00 0.00000000e+00\n",
      "  0.00000000e+00 0.00000000e+00 0.00000000e+00 0.00000000e+00\n",
      "  0.00000000e+00 0.00000000e+00 0.00000000e+00 0.00000000e+00]]\n"
     ]
    }
   ],
   "source": [
    "train_network_growing(W,data,True)"
   ]
  },
  {
   "cell_type": "markdown",
   "metadata": {},
   "source": [
    "<div class=\"alert alert-success\">\n",
    "    \n",
    "**Exercise 2:**<br>\n",
    "Find the right thresholds $a_T$ and $h_T$ so that the networks ends up with as many neurons as there are classes.\n",
    "</div>"
   ]
  },
  {
   "cell_type": "markdown",
   "metadata": {},
   "source": [
    "<div class=\"alert alert-warning\">\n",
    "    \n",
    "**Hints:**<br>\n",
    "\n",
    "- The networks begins with 2 output neurons. hence, $classes - 2$ neurons should be added during the training phase.\n",
    "\n",
    "</div>"
   ]
  },
  {
   "cell_type": "code",
   "execution_count": 52,
   "metadata": {},
   "outputs": [],
   "source": [
    "# %load solutions/code2.py"
   ]
  },
  {
   "cell_type": "code",
   "execution_count": 53,
   "metadata": {},
   "outputs": [
    {
     "name": "stdout",
     "output_type": "stream",
     "text": [
      "the  0 th class has activated neuron number  0  with a precision of  1.0\n",
      "the  1 th class has activated neuron number  1  with a precision of  1.0\n",
      "the  2 th class has activated neuron number  2  with a precision of  1.0\n",
      "the  3 th class has activated neuron number  3  with a precision of  1.0\n",
      "the  4 th class has activated neuron number  4  with a precision of  1.0\n",
      "the  5 th class has activated neuron number  5  with a precision of  1.0\n"
     ]
    }
   ],
   "source": [
    "test_network(W, 500, max_output_neurons, True)"
   ]
  },
  {
   "cell_type": "markdown",
   "metadata": {},
   "source": [
    "Hence, the growing neural network, having grown neurons in order to classify the different classes, reached a very good precision for each class as well. "
   ]
  },
  {
   "cell_type": "markdown",
   "metadata": {},
   "source": [
    "<div class=\"alert alert-block alert-info\"> \n",
    "    \n",
    "**NB:** When you classify more complex data, the network might grow more neurons than the number of classes you would like. However, if you want to use this network for classification, you can still consider each neuron activation as a subclass of the initial cluster you wanted. Hence, you could consider that inputs that activate a specific set of neurons belong to one cluster, the inputs that activate another specific set of neuron belong to another cluster, etc."
   ]
  },
  {
   "cell_type": "markdown",
   "metadata": {},
   "source": [
    "# 5. <a id=\"sec5\"></a> How to classify more complex data:"
   ]
  },
  {
   "cell_type": "markdown",
   "metadata": {},
   "source": [
    "### Adding Context Description\n",
    "Given that the input might be a temporal function (frames of a video, for instance), we might also like the neural network to take the context into account, that is to say to use the the context of the previous event in the computation of the distance. Each neuron will now consist of a weight vector $w_j \\in \\mathbb{R}^{n}$ and a number K of context descriptors $c_{j,k}\\in \\mathbb{R}^{n}$. \n",
    "The global context of the network, $C_{k} \\in  \\mathbb{R}^{n}$, will be computed as follow:\n",
    "\n",
    "\\begin{equation*}\n",
    "C_{k}(t) = \\beta w_{b}^{t-1} + (1-\\beta)c_{b,k}^{t-1}\n",
    "\\end{equation*}\n",
    "<br>Which is a is a linear combination of the context descriptors and the weights of the best macthing units at $t-1$. \n",
    "<br><br>\n",
    "The distance will now be computed the following way:\n",
    "\\begin{equation*}\n",
    "d_{j} = \\alpha_{0} \\lVert x (t) - w_{j}\\lVert^{2} + \\sum_{k=1}^{K}{\\lVert C_{k}(t) - c_{j,k}^{t}\\lVert^{2}}\n",
    "\\end{equation*}\n",
    "\n",
    "This is a way to take the context of the previous timestep in the determination of the future weights. The best matching unit would then be the one that have the weights the closest to the input, while having a context that matches best the global context.\n",
    "\n",
    "\n",
    "The context descriptors of the best matching unit would be updated at the same time and in the same way as its weights: <br><br>\n",
    "\\begin{equation*}\n",
    "\\Delta c_{i,k} = \\epsilon_{i}h_{i}(C_{k}(t)-c_{i,k}),h_i \\in [0,1] \n",
    "\\end{equation*}"
   ]
  },
  {
   "cell_type": "markdown",
   "metadata": {},
   "source": [
    "### The GDM library\n",
    "from https://github.com/giparisi/GDM, and https://github.com/giparisi/gwr-tb. <br>\n",
    "It can provide you with most of the tools needed for self-growing neural networks, and some examples in order to help you getting familiar with it. Here is an example of how it works on the iris dataset: \n",
    "<br><br>"
   ]
  },
  {
   "cell_type": "code",
   "execution_count": 56,
   "metadata": {},
   "outputs": [
    {
     "name": "stdout",
     "output_type": "stream",
     "text": [
      "IRIS from ./GDM_master/iris.csv loaded.\n",
      "PULSAR from ./GDM_master/pulsar_stars.csv loaded.\n"
     ]
    }
   ],
   "source": [
    "from GDM_master.gammagwr import GammaGWR\n",
    "import GDM_master.gtls as gtls\n",
    "import matplotlib.pyplot as plt\n",
    "import numpy as np\n",
    "\n",
    "ds_iris = gtls.IrisDataset(file='./GDM_master/iris.csv', normalize=True)\n",
    "print(\"%s from %s loaded.\" % (ds_iris.name, ds_iris.file)) \n",
    "\n",
    "ds_pulsar = gtls.PulsarDataset(file='./GDM_master/pulsar_stars.csv', normalize=True)\n",
    "print(\"%s from %s loaded.\" % (ds_pulsar.name, ds_pulsar.file)) "
   ]
  },
  {
   "cell_type": "markdown",
   "metadata": {},
   "source": [
    "#### Step 1: Initialize\n",
    "\n",
    "GammaGWR: Growing When Required Network with temporal context"
   ]
  },
  {
   "cell_type": "code",
   "execution_count": 57,
   "metadata": {},
   "outputs": [],
   "source": [
    "#iris ou pulsar ?\n",
    "iris = 0;\n",
    "\n",
    "taux = 0.7\n",
    "\n",
    "\n",
    "if(iris == 1):\n",
    "    ds = gtls.IrisDataset(file='./GDM_master/iris.csv', normalize=True)\n",
    "    \n",
    "    t = int(taux*len(ds.labels))\n",
    "    ds_train = gtls.IrisDataset(file='./GDM_master/iris.csv', normalize=True)\n",
    "    ds_train.labels = ds_train.labels[:t]\n",
    "    ds_train.vectors = ds_train.vectors[:t]\n",
    "\n",
    "    ds_test = gtls.IrisDataset(file='./GDM_master/iris.csv', normalize=True)\n",
    "    ds_test.labels = ds_test.labels[t:]\n",
    "    ds_test.vectors = ds_test.vectors[t:]\n",
    "    \n",
    "else:\n",
    "    ds = gtls.PulsarDataset(file='./GDM_master/pulsar_stars.csv', normalize=True)\n",
    "    \n",
    "    t = int(taux*len(ds.labels))\n",
    "    ds_train = gtls.PulsarDataset(file='./GDM_master/pulsar_stars.csv', normalize=True)\n",
    "    ds_train.labels = ds_train.labels[:t]\n",
    "    ds_train.vectors = ds_train.vectors[:t]\n",
    "\n",
    "    ds_test = gtls.PulsarDataset(file='./GDM_master/pulsar_stars.csv', normalize=True)\n",
    "    ds_test.labels = ds_test.labels[t:]\n",
    "    ds_test.vectors = ds_test.vectors[t:]\n",
    "\n",
    "\n"
   ]
  },
  {
   "cell_type": "code",
   "execution_count": 58,
   "metadata": {},
   "outputs": [
    {
     "name": "stdout",
     "output_type": "stream",
     "text": [
      "Randomly initialized weights: \n",
      "\n",
      "[0.44531805 0.21012744 0.25972779 0.04565378 0.00821588 0.05153149\n",
      " 0.36325211 0.13306857]\n",
      "[0.50562503 0.25723198 0.21206492 0.03209882 0.00416601 0.06201393\n",
      " 0.45881273 0.18221784]\n"
     ]
    }
   ],
   "source": [
    "g = GammaGWR()\n",
    "g.init_network(ds,1)"
   ]
  },
  {
   "cell_type": "markdown",
   "metadata": {},
   "source": [
    "#### Step 2: Parametrize\n",
    "Choose the number of context descriptors, the nulber of epochs, the thresholds you wants to use, as well as the learning rates:"
   ]
  },
  {
   "cell_type": "code",
   "execution_count": 59,
   "metadata": {},
   "outputs": [
    {
     "name": "stdout",
     "output_type": "stream",
     "text": [
      "(Epoch: 1, NN: 1252, ATQE: 0.054223434653424385)\n",
      "(-- Added  1250 neuron(s) (total added - total deleted)\n",
      "(-- Removed 656 neuron(s))\n"
     ]
    }
   ],
   "source": [
    "num_context = 1 # number of context descriptors\n",
    "epochs = 1 # epochs per sample for incremental learning\n",
    "a_threshold = [0.95, 0.9]\n",
    "beta = 0.7\n",
    "learning_rates = [0.2, 0.001]\n",
    "context = True\n",
    "\n",
    "g.train_ggwr(ds_train, epochs, a_threshold[0], beta, learning_rates)"
   ]
  },
  {
   "cell_type": "markdown",
   "metadata": {},
   "source": [
    "### Step 3: Test\n",
    "\n",
    "You can get the accuracy on your training set, as well as plot the spatial organization of your neural network (in 2D). For each input, the classification correspond to the color of the neuron activated."
   ]
  },
  {
   "cell_type": "code",
   "execution_count": 60,
   "metadata": {},
   "outputs": [
    {
     "name": "stdout",
     "output_type": "stream",
     "text": [
      "test accuracy:  0.9867783985102421 \n",
      "\n",
      "you can also plot the spatial representation of the neural network in two dimensions: \n"
     ]
    },
    {
     "data": {
      "image/png": "[encoded data removed]",
      "text/plain": [
       "<Figure size 432x288 with 1 Axes>"
      ]
     },
     "metadata": {
      "needs_background": "light"
     },
     "output_type": "display_data"
    }
   ],
   "source": [
    "g.test_gammagwr(ds_test, test_accuracy=True)\n",
    "print('test accuracy: ',g.test_accuracy, '\\n')\n",
    "print('you can also plot the spatial representation of the neural network in two dimensions: ')\n",
    "gtls.plot_network(g, True, True) "
   ]
  },
  {
   "cell_type": "markdown",
   "metadata": {},
   "source": [
    "# 6. <a id=\"sec6\"></a> Comparison of a dynamically grown and a static network"
   ]
  },
  {
   "cell_type": "markdown",
   "metadata": {},
   "source": [
    "gdm_demo_no_neurogenesis.py corresponds to a static network, while gdm_demo.py corresponds to a dynamic network, with the maximum number of neurons being equal to the static's one."
   ]
  },
  {
   "cell_type": "code",
   "execution_count": 61,
   "metadata": {},
   "outputs": [
    {
     "name": "stdout",
     "output_type": "stream",
     "text": [
      "IRIS from iris.csv loaded.\n",
      "(Epoch: 1, NN: 30, ATQE: 0.09873118529377498)\n",
      "(Epoch: 1, NN: 30, ATQE: 0.05949469699143556)\n",
      "(Epoch: 1, NN: 30, ATQE: 0.20486375131460655)\n",
      "(Epoch: 1, NN: 30, ATQE: 0.07090032924287167)\n",
      "(Epoch: 1, NN: 30, ATQE: 0.10877387356548533)\n",
      "(Epoch: 1, NN: 30, ATQE: 0.07947152445000895)\n",
      "(Epoch: 1, NN: 30, ATQE: 0.12449254440461952)\n",
      "(Epoch: 1, NN: 30, ATQE: 0.08562081765930638)\n",
      "(Epoch: 1, NN: 30, ATQE: 0.120520958764572)\n",
      "(Epoch: 1, NN: 30, ATQE: 0.07750884136655031)\n",
      "(Epoch: 1, NN: 30, ATQE: 0.5763658824403568)\n",
      "(Epoch: 1, NN: 30, ATQE: 0.10718450267790654)\n",
      "(Epoch: 1, NN: 30, ATQE: 0.4972876766412499)\n",
      "(Epoch: 1, NN: 30, ATQE: 0.13073813385995314)\n",
      "(Epoch: 1, NN: 30, ATQE: 0.5109939677639186)\n",
      "(Epoch: 1, NN: 30, ATQE: 0.16960980236929143)\n",
      "(Epoch: 1, NN: 30, ATQE: 0.42977164885295116)\n",
      "(Epoch: 1, NN: 30, ATQE: 0.1997811254843711)\n",
      "(Epoch: 1, NN: 30, ATQE: 0.3425423347079026)\n",
      "(Epoch: 1, NN: 30, ATQE: 0.22356493024783908)\n",
      "(Epoch: 1, NN: 30, ATQE: 0.6656813652196004)\n",
      "(Epoch: 1, NN: 30, ATQE: 0.28107724026920555)\n",
      "(Epoch: 1, NN: 30, ATQE: 0.6007834529536497)\n",
      "(Epoch: 1, NN: 30, ATQE: 0.33214122135221114)\n",
      "(Epoch: 1, NN: 30, ATQE: 0.5222519623849485)\n",
      "(Epoch: 1, NN: 30, ATQE: 0.37685238592788883)\n",
      "(Epoch: 1, NN: 30, ATQE: 0.5097423617955219)\n",
      "(Epoch: 1, NN: 30, ATQE: 0.4193958606855401)\n",
      "(Epoch: 1, NN: 30, ATQE: 0.46332547848620653)\n",
      "(Epoch: 1, NN: 30, ATQE: 0.4574702682922557)\n",
      "Accuracy episodic: 0.6666666666666666, semantic: 0.3333333333333333\n"
     ]
    }
   ],
   "source": [
    "run GDM_master/gdm_demo_no_neurogenesis.py"
   ]
  },
  {
   "cell_type": "code",
   "execution_count": 62,
   "metadata": {},
   "outputs": [
    {
     "name": "stdout",
     "output_type": "stream",
     "text": [
      "IRIS from iris.csv loaded.\n",
      "(Epoch: 1, NN: 3, ATQE: 0.11883550955400879)\n",
      "(Epoch: 1, NN: 2, ATQE: 0.11534645740675378)\n",
      "(Epoch: 1, NN: 4, ATQE: 0.17329093375151952)\n",
      "(Epoch: 1, NN: 2, ATQE: 0.22083144127678606)\n",
      "(Epoch: 1, NN: 6, ATQE: 0.07195013980964265)\n",
      "(Epoch: 1, NN: 2, ATQE: 0.2185494372820073)\n",
      "(Epoch: 1, NN: 9, ATQE: 0.07776138070651302)\n",
      "(Epoch: 1, NN: 2, ATQE: 0.21119831924195515)\n",
      "(Epoch: 1, NN: 11, ATQE: 0.06799538057618562)\n",
      "(Epoch: 1, NN: 2, ATQE: 0.2237438105121481)\n",
      "(Epoch: 1, NN: 12, ATQE: 0.45914951167840706)\n",
      "(Epoch: 1, NN: 3, ATQE: 0.3852657135044016)\n",
      "(Epoch: 1, NN: 13, ATQE: 0.21250860796993237)\n",
      "(Epoch: 1, NN: 3, ATQE: 0.3538660321145711)\n",
      "(Epoch: 1, NN: 15, ATQE: 0.1476361456659508)\n",
      "(Epoch: 1, NN: 3, ATQE: 0.4408997544336498)\n",
      "(Epoch: 1, NN: 17, ATQE: 0.1336694040222312)\n",
      "(Epoch: 1, NN: 3, ATQE: 0.3937402093026719)\n",
      "(Epoch: 1, NN: 17, ATQE: 0.07844967159677999)\n",
      "(Epoch: 1, NN: 3, ATQE: 0.3792586127873371)\n",
      "(Epoch: 1, NN: 18, ATQE: 0.2308950942075511)\n",
      "(Epoch: 1, NN: 4, ATQE: 0.5887417745708643)\n",
      "(Epoch: 1, NN: 21, ATQE: 0.18966621310674092)\n",
      "(Epoch: 1, NN: 4, ATQE: 0.3562269303572706)\n",
      "(Epoch: 1, NN: 25, ATQE: 0.11024825130184479)\n",
      "(Epoch: 1, NN: 4, ATQE: 0.3903693817011767)\n",
      "(Epoch: 1, NN: 27, ATQE: 0.14989141423026203)\n",
      "(Epoch: 1, NN: 4, ATQE: 0.40759361305472036)\n",
      "(Epoch: 1, NN: 28, ATQE: 0.10806290212826623)\n",
      "(Epoch: 1, NN: 4, ATQE: 0.3983947768211077)\n",
      "\n",
      " 26  nodes were added to the episodic memory during the training \n",
      "\n",
      "2  nodes were added to the semantic memory during the training \n",
      "\n",
      "Accuracy episodic: 0.8066666666666666, semantic: 0.5866666666666667\n"
     ]
    }
   ],
   "source": [
    "run GDM_master/gdm_demo.py"
   ]
  },
  {
   "cell_type": "markdown",
   "metadata": {},
   "source": [
    "Hence, the accuracies from the self-growing network (0.81, 0.59) look far better, compared to the ones of the static network (0.66, 0.33), after only one epoch, with a maximum number of neurons of 20."
   ]
  },
  {
   "cell_type": "markdown",
   "metadata": {},
   "source": [
    "# Catastrophic forgetting:"
   ]
  },
  {
   "cell_type": "markdown",
   "metadata": {},
   "source": [
    "Let's try to find out wether neurogenesis helps overcoming catastrophic forgetting. To do so, I will compare a growing self-organising neural network to a static one, the number of neurons of the growing one being bounded by the static one. The tests will be performed on the MNIST dataset, seen previously. \n",
    "\n",
    "### Adding a pre-trained network in front of it:\n",
    "You might wonder, given the relatively simple example we have used before, how to use this kind of networks in order to classify images. <br>\n",
    "Let's say that you would like to use $28$x$28$ RGB images, belonging to $10$ classes. Giving this growing neural network the pixels of those images as inputs would obviously be a disaster, given thesize of the dataset and the simplicity of the network, and you therefore need to extract features from those images before feeding those to the network. <br> <br>\n",
    "To do so, we will use a pre-trained network, already trained on the MNIST dataset. We will get rid of its last two layers. The ouptut of this network will therefore be the output of the fully-connected hidden layer, that is to say 512 features, that will feed our self-organizing neural network.\n",
    "\n",
    "<br><br>\n",
    "Hence, this neural network will be fed with features coming out of the hidden layer of the pre-trained network, instead of the images themselves. Furthermore, in order to observe catastrophic forgetting, both the static and the growing neural network will be fed with the training data per label. (The images corresponding to the 1s first, then the 2s, etc). After each training, we will test the networks on each label (the 1s, then the 2s, etc), in order to observe the performance of both.\n"
   ]
  },
  {
   "cell_type": "code",
   "execution_count": 63,
   "metadata": {},
   "outputs": [
    {
     "name": "stderr",
     "output_type": "stream",
     "text": [
      "Using TensorFlow backend.\n"
     ]
    }
   ],
   "source": [
    "#from GDM_master.gammagwr import GammaGWR\n",
    "#import GDM_master.gtls as gtls\n",
    "#import matplotlib.pyplot as plt\n",
    "#import numpy as np\n",
    "#import GDM_master.gdm_own as gown\n",
    "\n",
    "#from keras.models import Sequential\n",
    "#from keras.layers import Dense, Activation\n",
    "#import keras.metrics as metrics\n",
    "#import keras.losses as losses\n",
    "#import keras.optimizers as optimizers\n",
    "#import matplotlib.pyplot as plt\n",
    "from keras.models import load_model\n",
    "from keras.utils import np_utils\n",
    "from keras.models import Model"
   ]
  },
  {
   "cell_type": "markdown",
   "metadata": {},
   "source": [
    "#### 1. Let's load the MNIST data"
   ]
  },
  {
   "cell_type": "code",
   "execution_count": 66,
   "metadata": {},
   "outputs": [],
   "source": [
    "from keras.datasets import mnist\n",
    "(X_train, y_train), (X_test, y_test) = mnist.load_data()"
   ]
  },
  {
   "cell_type": "code",
   "execution_count": 67,
   "metadata": {},
   "outputs": [
    {
     "name": "stdout",
     "output_type": "stream",
     "text": [
      "Number of images for training: 60000\n",
      "Image size: (28, 28)\n",
      "Number of images for testing: 10000\n",
      "(60000, 784)\n",
      "(10000, 784)\n"
     ]
    }
   ],
   "source": [
    "print(\"Number of images for training: {}\".format(X_train.shape[0]))\n",
    "print(\"Image size: {}\".format(X_train.shape[1:]))\n",
    "print(\"Number of images for testing: {}\".format(X_test.shape[0]))\n",
    "\n",
    "X_train = X_train.reshape(X_train.shape[0], 784)\n",
    "X_test  = X_test.reshape(X_test.shape[0], 784);\n",
    "print(X_train.shape)\n",
    "print(X_test.shape)\n",
    "Y_train = np_utils.to_categorical(y_train, 10)\n",
    "Y_test = np_utils.to_categorical(y_test, 10)"
   ]
  },
  {
   "cell_type": "markdown",
   "metadata": {},
   "source": [
    "#### 2. Let's sort the data\n",
    "\n",
    "In order to experience catastrophic forgetting, we need to train the network on each task at a time (recognizing the 1s, then the 2s, etc)"
   ]
  },
  {
   "cell_type": "code",
   "execution_count": 68,
   "metadata": {},
   "outputs": [],
   "source": [
    "labels = range(1,10)\n",
    "\n",
    "def tri_dataset(X, y):\n",
    "    X_train_classes = [[] for i in labels]\n",
    "    for j in range(len(y)):\n",
    "        X_train_classes[y[j]-1].append(X[j])\n",
    "    return X_train_classes"
   ]
  },
  {
   "cell_type": "code",
   "execution_count": 69,
   "metadata": {},
   "outputs": [],
   "source": [
    "X_train_classes = np.array(tri_dataset(X_train, y_train))\n",
    "X_test_classes = np.array(tri_dataset(X_test, y_test))"
   ]
  },
  {
   "cell_type": "markdown",
   "metadata": {},
   "source": [
    "#### 3. Let's load the pre-trained model, without its last two layers\n",
    "You can find the preparation of this pre-trained model in the other_notebooks/Cutting the mnist model.ipynb notebook"
   ]
  },
  {
   "cell_type": "code",
   "execution_count": 70,
   "metadata": {},
   "outputs": [
    {
     "name": "stdout",
     "output_type": "stream",
     "text": [
      "WARNING:tensorflow:From /Users/axel/anaconda3/lib/python3.7/site-packages/tensorflow_core/python/ops/resource_variable_ops.py:1630: calling BaseResourceVariable.__init__ (from tensorflow.python.ops.resource_variable_ops) with constraint is deprecated and will be removed in a future version.\n",
      "Instructions for updating:\n",
      "If using Keras pass *_constraint arguments to layers.\n"
     ]
    },
    {
     "name": "stderr",
     "output_type": "stream",
     "text": [
      "/Users/axel/anaconda3/lib/python3.7/site-packages/keras/engine/saving.py:341: UserWarning: No training configuration found in save file: the model was *not* compiled. Compile it manually.\n",
      "  warnings.warn('No training configuration found in save file: '\n"
     ]
    }
   ],
   "source": [
    "model_popped = load_model('model_popped.h5')\n",
    "for layer in model_popped._layers:\n",
    "    layer.trainable = False"
   ]
  },
  {
   "cell_type": "markdown",
   "metadata": {},
   "source": [
    "#### 3. Let's process the dataset \n",
    "We will:\n",
    "- extract the features by feeding the data to the pre-trained network we loaded earlier\n",
    "- take the outputs, and create the training and testing datasets for our growing and static neural networks from the GDM library."
   ]
  },
  {
   "cell_type": "code",
   "execution_count": 72,
   "metadata": {},
   "outputs": [
    {
     "name": "stdout",
     "output_type": "stream",
     "text": [
      "WARNING:tensorflow:From /Users/axel/anaconda3/lib/python3.7/site-packages/keras/backend/tensorflow_backend.py:422: The name tf.global_variables is deprecated. Please use tf.compat.v1.global_variables instead.\n",
      "\n"
     ]
    }
   ],
   "source": [
    "# Getting the features, that is to say the output of the pre-trained NN:\n",
    "\n",
    "X_train_GWR = []\n",
    "for i in X_train_classes:\n",
    "    X_train_GWR.append(model_popped.predict(np.array(i))) \n",
    "X_train_GWR = np.array(X_train_GWR)\n",
    "\n",
    "\n",
    "X_test_GWR = []\n",
    "for i in X_test_classes:\n",
    "    X_test_GWR.append(model_popped.predict(np.array(i)))\n",
    "X_test_GWR = np.array(X_test_GWR)"
   ]
  },
  {
   "cell_type": "code",
   "execution_count": 89,
   "metadata": {},
   "outputs": [],
   "source": [
    "ds_train_list = []\n",
    "ds_test_list = []\n",
    "for j in range(9):\n",
    "    ds_train_list.append(gtls.OwnDataset(X_train_GWR[j][:150], np.array([j+1 for k in range(300)]), 10,normalize=True))\n",
    "    ds_train_list.append(gtls.OwnDataset(X_train_GWR[j][150:300], np.array([j+1 for k in range(300)]), 10,normalize=True))\n",
    "    ds_test_list.append(gtls.OwnDataset(X_test_GWR[j][:300], np.array([j+1 for k in range(300)]), 10,normalize=True))"
   ]
  },
  {
   "cell_type": "code",
   "execution_count": 90,
   "metadata": {},
   "outputs": [
    {
     "name": "stdout",
     "output_type": "stream",
     "text": [
      "Randomly initialized weights: \n",
      "\n",
      "[0.         0.         0.         0.         0.         0.\n",
      " 0.         0.         0.         0.         0.         0.\n",
      " 0.         0.         0.         0.         0.         0.\n",
      " 0.         0.         0.         0.         0.         0.\n",
      " 0.         0.         0.         0.         0.         0.06789449\n",
      " 0.         0.         0.         0.         0.5227611  0.\n",
      " 0.         0.         0.         0.         0.         0.33835524\n",
      " 0.         0.70082057 0.         0.         0.         0.\n",
      " 0.7443207  0.         0.         0.         0.         0.\n",
      " 0.         0.         0.         0.32488915 0.         0.\n",
      " 0.         0.         0.         0.7191296  0.         0.\n",
      " 0.         0.         0.         0.         0.         0.\n",
      " 0.         0.         0.01120395 0.         0.         0.\n",
      " 0.         0.         0.35440788 0.4799536  0.         0.\n",
      " 0.         0.         0.         0.69444895 0.34569007 0.07330354\n",
      " 0.         0.         0.         0.         0.         0.\n",
      " 0.         0.         0.09724697 0.         0.         0.\n",
      " 0.         0.         0.         0.         0.         0.51071715\n",
      " 0.4792404  0.         0.         0.         0.         0.\n",
      " 0.         0.         0.         0.         0.         0.\n",
      " 0.         0.         0.20392558 0.         0.51799476 0.\n",
      " 0.         0.         0.39659724 0.         0.         0.48923543\n",
      " 0.         0.         0.68280846 0.         0.         0.\n",
      " 0.         0.         0.         0.         0.         0.4248124\n",
      " 0.48035708 0.         0.5940627  0.         0.         0.\n",
      " 0.         0.         0.         0.         0.         0.31202084\n",
      " 0.14415467 0.4507292  0.         0.         0.         0.\n",
      " 0.         0.         0.58703554 0.         0.82551354 0.\n",
      " 0.         0.         0.72119087 0.         0.         0.\n",
      " 0.         0.3198828  0.         0.         0.         0.53177154\n",
      " 0.         0.         0.         0.         0.         0.\n",
      " 0.         0.         0.         0.         0.8347572  0.6644657\n",
      " 0.         0.         0.         0.         0.         0.\n",
      " 0.45677057 0.01467789 0.         0.         0.         0.\n",
      " 0.         0.         0.         0.         0.         0.\n",
      " 0.         0.         0.         0.         0.         0.\n",
      " 0.         0.         0.         0.         0.         0.\n",
      " 0.         0.         0.         0.         0.         0.\n",
      " 0.5146374  0.25808787 0.         0.         0.27634645 0.\n",
      " 0.         0.0627104  0.         0.8383426  0.         0.\n",
      " 0.         0.         0.65947866 0.         0.         0.\n",
      " 0.         0.         0.6669751  0.         0.         0.\n",
      " 0.         0.         0.         0.         0.37013212 0.\n",
      " 0.43740436 0.         0.31401294 0.         0.         0.\n",
      " 0.         0.         0.23898758 0.         0.         0.\n",
      " 0.         0.58849496 0.56805044 0.         0.53134966 0.\n",
      " 0.         0.         0.         0.         0.         0.\n",
      " 0.         0.         0.         0.6547752  0.         0.\n",
      " 0.         0.         0.         0.         0.         0.5669182\n",
      " 0.         0.         0.         0.04287567 0.         0.\n",
      " 0.         0.         0.         0.         0.23790246 0.\n",
      " 0.         0.5622512  0.         0.12602994 0.60262716 0.\n",
      " 0.         0.         0.         0.5507464  0.         0.\n",
      " 0.         0.6240193  0.         0.         0.5135852  0.\n",
      " 0.9286084  0.         0.         0.         0.         0.\n",
      " 0.         0.         0.         0.         0.         0.\n",
      " 0.         0.         0.         0.         0.         0.\n",
      " 0.         0.         0.         0.5737711  0.         0.\n",
      " 0.         0.         0.         0.         0.         0.\n",
      " 0.         0.         0.         0.         0.6371476  0.\n",
      " 0.         0.         0.         0.         0.         0.\n",
      " 0.         0.         0.         0.19928752 0.         0.\n",
      " 0.67289346 0.         0.         0.         0.         0.\n",
      " 0.         0.         0.         0.51533103 0.         0.\n",
      " 0.         0.         0.         0.         0.         0.\n",
      " 0.05606049 0.73048383 0.         0.         0.         0.\n",
      " 0.         0.         0.25326034 0.00640359 0.         0.18444143\n",
      " 0.         0.2896817  0.         0.         0.         0.\n",
      " 0.         0.         0.         0.         0.         0.31034863\n",
      " 0.         0.26759717 0.76222    0.         0.5671943  0.\n",
      " 0.         0.         0.         0.         0.44376642 0.\n",
      " 0.         0.         0.8460565  0.         0.         0.\n",
      " 0.13730459 0.         0.         0.         0.863711   0.02580706\n",
      " 0.         0.         0.12346518 0.4676829  0.         0.\n",
      " 0.         0.         0.         0.62078923 0.87373704 0.\n",
      " 0.         0.73239017 0.         0.         0.         0.\n",
      " 0.63760966 0.5719739  0.         0.47116452 0.         0.\n",
      " 0.2272731  0.         0.         0.         0.10306362 0.57343847\n",
      " 0.         0.         0.         0.         0.7490106  0.\n",
      " 0.         0.61361885 0.68255305 0.         0.644674   0.82669836\n",
      " 0.07308908 0.         0.         0.         0.         0.\n",
      " 0.         0.         0.         0.         0.         0.\n",
      " 0.         0.         0.         0.         0.         0.05330348\n",
      " 0.         0.         0.         0.7289841  0.         0.\n",
      " 0.5240152  0.74581695 0.         0.         0.         0.\n",
      " 0.         0.        ]\n",
      "[1.         0.         0.         0.         0.         0.\n",
      " 0.         0.02284803 0.         0.         0.         0.\n",
      " 0.         1.         0.         0.89692485 0.         0.\n",
      " 0.         0.0461222  0.         0.40247083 1.         0.1902201\n",
      " 0.         0.42693773 0.         0.         0.         0.\n",
      " 0.         0.         0.         0.14343473 0.48978823 0.\n",
      " 0.         0.         0.         0.81971455 0.         0.\n",
      " 0.         0.18698302 0.         0.         0.         0.07824072\n",
      " 0.57652587 0.         0.         0.         0.         0.89035356\n",
      " 0.         0.         0.         0.         0.         0.\n",
      " 0.         0.         0.         0.80861235 0.14107417 0.\n",
      " 0.         0.         0.         0.         0.         0.\n",
      " 0.         0.         0.36752576 0.         0.         0.\n",
      " 0.         0.         0.0523644  0.         0.         0.\n",
      " 0.         0.         0.11569824 0.10911662 0.         0.\n",
      " 0.         0.         0.         0.         0.         0.\n",
      " 0.22558631 0.4710221  0.         0.         0.         0.\n",
      " 0.         0.         0.11601648 0.         0.         0.61549425\n",
      " 0.         0.         0.         0.         0.         0.\n",
      " 0.         0.         1.         0.         0.         0.6818465\n",
      " 0.         0.         0.         0.         0.87615013 0.\n",
      " 0.         0.         0.0399979  0.         0.         0.60400856\n",
      " 0.         0.         0.         0.         0.2923892  0.\n",
      " 0.49521112 0.         0.         0.         0.11171477 0.67168164\n",
      " 0.26161125 0.         0.         0.         0.         0.\n",
      " 0.         0.         0.35060126 0.7896084  0.         0.5107116\n",
      " 0.         0.22288106 0.         0.         0.         0.\n",
      " 0.         0.         0.46540767 0.         0.         0.\n",
      " 0.         0.         0.55085677 0.         0.         0.\n",
      " 0.         0.08818232 0.         0.         0.         0.\n",
      " 0.         0.         0.         0.         0.         0.\n",
      " 0.         0.         0.         0.04323177 0.         0.\n",
      " 0.         0.         0.         0.         0.         0.32231015\n",
      " 0.         0.2160848  0.         0.18886715 0.         0.\n",
      " 0.         0.         0.         0.44546354 1.         0.\n",
      " 0.         0.         0.         0.         0.         0.\n",
      " 0.         0.         0.         0.21189721 0.24774995 0.\n",
      " 0.         0.         0.         0.         0.         0.\n",
      " 0.24120401 0.         0.         0.         0.         0.\n",
      " 0.         0.09543274 0.         0.404369   0.         0.\n",
      " 0.         0.         0.26964167 0.         1.         1.\n",
      " 0.         1.         0.         0.         0.         0.36569417\n",
      " 0.         0.         0.4734522  0.         0.         0.\n",
      " 0.         0.         0.         0.         1.         0.\n",
      " 0.         0.         0.         0.         0.         0.\n",
      " 0.         0.         0.03097391 0.         0.         0.\n",
      " 0.         0.         0.         0.         0.         0.\n",
      " 0.         0.         0.19694452 0.20370416 0.         1.\n",
      " 0.         0.         0.         0.         0.         0.46345\n",
      " 0.         0.         0.         0.         0.         0.\n",
      " 0.         0.         0.         0.         0.6322115  0.\n",
      " 1.         0.27899283 0.         0.5804484  0.48627496 0.\n",
      " 0.         0.         0.         0.32907063 0.         0.\n",
      " 0.         0.         0.         0.         0.4437073  0.\n",
      " 0.         0.         0.         0.         0.         0.\n",
      " 0.77506286 0.         0.         0.         0.         0.\n",
      " 0.         0.         0.         0.         0.24836428 0.\n",
      " 0.         0.         0.         0.         0.         0.\n",
      " 0.         0.         0.         0.         0.         0.\n",
      " 0.         0.         0.41952774 0.         0.         0.\n",
      " 0.         0.         0.20928705 0.         0.         0.\n",
      " 0.         0.         0.         0.         0.         0.\n",
      " 0.24562468 0.         0.         0.         0.         0.\n",
      " 0.         0.         0.         0.5006519  0.6325118  0.\n",
      " 0.         0.3165134  0.         0.         0.         0.\n",
      " 0.         0.28898686 0.4974728  0.         0.         0.\n",
      " 0.         0.         0.         0.         0.         0.\n",
      " 0.         0.         0.         0.60688984 0.         0.\n",
      " 0.         0.         1.         0.         0.         0.\n",
      " 0.         0.         0.8014865  0.         0.39150754 0.\n",
      " 0.         0.         0.         0.         0.         0.\n",
      " 0.00553837 0.         0.22122805 0.         0.         0.3249328\n",
      " 0.11123185 0.         0.         0.         0.2858536  0.47321084\n",
      " 0.         0.         0.         0.24680245 0.         0.\n",
      " 0.         0.         0.         0.4497922  0.         0.\n",
      " 0.04924546 0.29735902 0.         0.         0.         0.26027483\n",
      " 0.12202568 0.38659742 0.         0.         0.         0.\n",
      " 0.         0.         0.         0.         0.         0.415268\n",
      " 0.         0.         0.         0.         0.04247996 0.\n",
      " 0.         0.19171463 0.00565517 0.         0.09920406 0.70521677\n",
      " 0.23426078 0.         0.         0.         0.         0.50912297\n",
      " 0.         0.         0.         0.         0.         0.\n",
      " 0.         0.         0.         0.         0.         0.6441452\n",
      " 0.         0.         1.         0.28570026 0.         0.\n",
      " 0.45080912 0.64886874 0.         0.         0.         0.\n",
      " 0.46045095 0.        ]\n"
     ]
    }
   ],
   "source": [
    "g = GammaGWR()\n",
    "g.init_network(ds_train_list[0],1)"
   ]
  },
  {
   "cell_type": "markdown",
   "metadata": {},
   "source": [
    "#### 3. Parametrize the model: "
   ]
  },
  {
   "cell_type": "code",
   "execution_count": 103,
   "metadata": {},
   "outputs": [],
   "source": [
    "num_context = 1 # number of context descriptors\n",
    "epochs = 1 # epochs per sample for incremental learning\n",
    "a_threshold = [0.95, 0.9]\n",
    "beta = 0.7\n",
    "learning_rates = [0.2, 0.001]\n",
    "context = True"
   ]
  },
  {
   "cell_type": "markdown",
   "metadata": {},
   "source": [
    "accuracies = []\n",
    "\n",
    "for j in range(2):\n",
    "    print('training on label', j+1)\n",
    "    g.train_egwr(ds_train_list[j].vectors,ds_train_list[j].labels.reshape(-1,1), epochs, a_threshold[0], beta, learning_rates,True,True)\n",
    "    accuracy = []\n",
    "    for k in range(2):\n",
    "        g.test_egwr(ds_test_list[k], test_accuracy=True)\n",
    "        accuracy.append(g.test_accuracy)\n",
    "        print(g.test_accuracy, 'accuracy on label', k+1)\n",
    "    accuracies.append(accuracy)"
   ]
  },
  {
   "cell_type": "code",
   "execution_count": 81,
   "metadata": {},
   "outputs": [
    {
     "data": {
      "text/plain": [
       "300"
      ]
     },
     "execution_count": 81,
     "metadata": {},
     "output_type": "execute_result"
    }
   ],
   "source": [
    "len(ds_train_list[0].labels)"
   ]
  },
  {
   "cell_type": "code",
   "execution_count": 92,
   "metadata": {},
   "outputs": [
    {
     "name": "stdout",
     "output_type": "stream",
     "text": [
      "training on label 1\n",
      "(Epoch: 1, NN: 40, ATQE: 2.4921541805595884)\n",
      "(-- Added  38 neuron(s) (total added - total deleted)\n",
      "(-- Removed 0 neuron(s))\n",
      "1.0 accuracy on label 0\n",
      "0.0 accuracy on label 1\n",
      "0.0 accuracy on label 2\n",
      "0.0 accuracy on label 3\n",
      "0.0 accuracy on label 4\n",
      "0.0 accuracy on label 5\n",
      "0.0 accuracy on label 6\n",
      "0.0 accuracy on label 7\n",
      "0.0 accuracy on label 8\n",
      "training on label 2\n",
      "(Epoch: 1, NN: 78, ATQE: 2.120416896195521)\n",
      "(-- Added  76 neuron(s) (total added - total deleted)\n",
      "(-- Removed 0 neuron(s))\n",
      "1.0 accuracy on label 0\n",
      "0.0 accuracy on label 1\n",
      "0.0 accuracy on label 2\n",
      "0.0 accuracy on label 3\n",
      "0.0 accuracy on label 4\n",
      "0.0 accuracy on label 5\n",
      "0.0 accuracy on label 6\n",
      "0.0 accuracy on label 7\n",
      "0.0 accuracy on label 8\n",
      "training on label 3\n",
      "(Epoch: 1, NN: 117, ATQE: 3.099781516430791)\n",
      "(-- Added  115 neuron(s) (total added - total deleted)\n",
      "(-- Removed 0 neuron(s))\n",
      "0.9766666666666667 accuracy on label 0\n",
      "1.0 accuracy on label 1\n",
      "0.0 accuracy on label 2\n",
      "0.0 accuracy on label 3\n",
      "0.0 accuracy on label 4\n",
      "0.0 accuracy on label 5\n",
      "0.0 accuracy on label 6\n",
      "0.0 accuracy on label 7\n",
      "0.0 accuracy on label 8\n",
      "training on label 4\n",
      "(Epoch: 1, NN: 150, ATQE: 2.7723843483683503)\n",
      "(-- Added  148 neuron(s) (total added - total deleted)\n",
      "(-- Removed 0 neuron(s))\n",
      "0.9766666666666667 accuracy on label 0\n",
      "1.0 accuracy on label 1\n",
      "0.0 accuracy on label 2\n",
      "0.0 accuracy on label 3\n",
      "0.0 accuracy on label 4\n",
      "0.0 accuracy on label 5\n",
      "0.0 accuracy on label 6\n",
      "0.0 accuracy on label 7\n",
      "0.0 accuracy on label 8\n",
      "training on label 5\n",
      "(Epoch: 1, NN: 150, ATQE: 3.509075519008942)\n",
      "(-- Added  148 neuron(s) (total added - total deleted)\n",
      "(-- Removed 3 neuron(s))\n",
      "0.9733333333333334 accuracy on label 0\n",
      "0.9666666666666667 accuracy on label 1\n",
      "0.94 accuracy on label 2\n",
      "0.0 accuracy on label 3\n",
      "0.0 accuracy on label 4\n",
      "0.0 accuracy on label 5\n",
      "0.0 accuracy on label 6\n",
      "0.0 accuracy on label 7\n",
      "0.0 accuracy on label 8\n",
      "training on label 6\n",
      "(Epoch: 1, NN: 150, ATQE: 3.0200162724634163)\n",
      "(-- Added  148 neuron(s) (total added - total deleted)\n",
      "(-- Removed 69 neuron(s))\n",
      "0.9433333333333334 accuracy on label 0\n",
      "0.96 accuracy on label 1\n",
      "0.9566666666666667 accuracy on label 2\n",
      "0.0 accuracy on label 3\n",
      "0.0 accuracy on label 4\n",
      "0.0 accuracy on label 5\n",
      "0.0 accuracy on label 6\n",
      "0.0 accuracy on label 7\n",
      "0.0 accuracy on label 8\n",
      "training on label 7\n",
      "(Epoch: 1, NN: 124, ATQE: 3.115859167074628)\n",
      "(-- Added  122 neuron(s) (total added - total deleted)\n",
      "(-- Removed 3 neuron(s))\n",
      "0.83 accuracy on label 0\n",
      "0.9566666666666667 accuracy on label 1\n",
      "0.95 accuracy on label 2\n",
      "0.9833333333333333 accuracy on label 3\n",
      "0.0 accuracy on label 4\n",
      "0.0 accuracy on label 5\n",
      "0.0 accuracy on label 6\n",
      "0.0 accuracy on label 7\n",
      "0.0 accuracy on label 8\n",
      "training on label 8\n",
      "(Epoch: 1, NN: 150, ATQE: 2.757364771430909)\n",
      "(-- Added  148 neuron(s) (total added - total deleted)\n",
      "(-- Removed 43 neuron(s))\n",
      "0.82 accuracy on label 0\n",
      "0.94 accuracy on label 1\n",
      "0.9466666666666667 accuracy on label 2\n",
      "0.99 accuracy on label 3\n",
      "0.0 accuracy on label 4\n",
      "0.0 accuracy on label 5\n",
      "0.0 accuracy on label 6\n",
      "0.0 accuracy on label 7\n",
      "0.0 accuracy on label 8\n",
      "training on label 9\n",
      "(Epoch: 1, NN: 149, ATQE: 3.0382481554553418)\n",
      "(-- Added  147 neuron(s) (total added - total deleted)\n",
      "(-- Removed 15 neuron(s))\n",
      "0.82 accuracy on label 0\n",
      "0.8633333333333333 accuracy on label 1\n",
      "0.89 accuracy on label 2\n",
      "0.99 accuracy on label 3\n",
      "0.9533333333333334 accuracy on label 4\n",
      "0.0 accuracy on label 5\n",
      "0.0 accuracy on label 6\n",
      "0.0 accuracy on label 7\n",
      "0.0 accuracy on label 8\n",
      "training on label 10\n",
      "(Epoch: 1, NN: 150, ATQE: 2.7194579279073667)\n",
      "(-- Added  148 neuron(s) (total added - total deleted)\n",
      "(-- Removed 4 neuron(s))\n",
      "0.66 accuracy on label 0\n",
      "0.95 accuracy on label 1\n",
      "0.8633333333333333 accuracy on label 2\n",
      "0.99 accuracy on label 3\n",
      "0.9533333333333334 accuracy on label 4\n",
      "0.0 accuracy on label 5\n",
      "0.0 accuracy on label 6\n",
      "0.0 accuracy on label 7\n",
      "0.0 accuracy on label 8\n",
      "training on label 11\n",
      "(Epoch: 1, NN: 150, ATQE: 3.3392008039907073)\n",
      "(-- Added  148 neuron(s) (total added - total deleted)\n",
      "(-- Removed 4 neuron(s))\n",
      "0.6566666666666666 accuracy on label 0\n",
      "0.9466666666666667 accuracy on label 1\n",
      "0.85 accuracy on label 2\n",
      "0.9433333333333334 accuracy on label 3\n",
      "0.9333333333333333 accuracy on label 4\n",
      "0.9066666666666666 accuracy on label 5\n",
      "0.0 accuracy on label 6\n",
      "0.0 accuracy on label 7\n",
      "0.0 accuracy on label 8\n",
      "training on label 12\n",
      "(Epoch: 1, NN: 150, ATQE: 3.026821552933783)\n",
      "(-- Added  148 neuron(s) (total added - total deleted)\n",
      "(-- Removed 61 neuron(s))\n",
      "0.66 accuracy on label 0\n",
      "0.9366666666666666 accuracy on label 1\n",
      "0.86 accuracy on label 2\n",
      "0.8833333333333333 accuracy on label 3\n",
      "0.9333333333333333 accuracy on label 4\n",
      "0.9233333333333333 accuracy on label 5\n",
      "0.0 accuracy on label 6\n",
      "0.0 accuracy on label 7\n",
      "0.0 accuracy on label 8\n",
      "training on label 13\n",
      "(Epoch: 1, NN: 128, ATQE: 2.9485337097569944)\n",
      "(-- Added  126 neuron(s) (total added - total deleted)\n",
      "(-- Removed 11 neuron(s))\n",
      "0.5566666666666666 accuracy on label 0\n",
      "0.9166666666666666 accuracy on label 1\n",
      "0.6166666666666667 accuracy on label 2\n",
      "0.6733333333333333 accuracy on label 3\n",
      "0.9166666666666666 accuracy on label 4\n",
      "0.92 accuracy on label 5\n",
      "0.96 accuracy on label 6\n",
      "0.0 accuracy on label 7\n",
      "0.0 accuracy on label 8\n",
      "training on label 14\n",
      "(Epoch: 1, NN: 150, ATQE: 2.5997886287797485)\n",
      "(-- Added  148 neuron(s) (total added - total deleted)\n",
      "(-- Removed 38 neuron(s))\n",
      "0.5533333333333333 accuracy on label 0\n",
      "0.9133333333333333 accuracy on label 1\n",
      "0.83 accuracy on label 2\n",
      "0.6766666666666666 accuracy on label 3\n",
      "0.8966666666666666 accuracy on label 4\n",
      "0.9233333333333333 accuracy on label 5\n",
      "0.9633333333333334 accuracy on label 6\n",
      "0.0 accuracy on label 7\n",
      "0.0 accuracy on label 8\n",
      "training on label 15\n",
      "(Epoch: 1, NN: 150, ATQE: 3.1847772629360307)\n",
      "(-- Added  148 neuron(s) (total added - total deleted)\n",
      "(-- Removed 7 neuron(s))\n",
      "0.53 accuracy on label 0\n",
      "0.9133333333333333 accuracy on label 1\n",
      "0.43 accuracy on label 2\n",
      "0.8933333333333333 accuracy on label 3\n",
      "0.8466666666666667 accuracy on label 4\n",
      "0.9133333333333333 accuracy on label 5\n",
      "0.96 accuracy on label 6\n",
      "0.9266666666666666 accuracy on label 7\n",
      "0.0 accuracy on label 8\n",
      "training on label 16\n",
      "(Epoch: 1, NN: 150, ATQE: 3.127268429302196)\n",
      "(-- Added  148 neuron(s) (total added - total deleted)\n",
      "(-- Removed 7 neuron(s))\n",
      "0.5333333333333333 accuracy on label 0\n",
      "0.9266666666666666 accuracy on label 1\n",
      "0.42 accuracy on label 2\n",
      "0.8933333333333333 accuracy on label 3\n",
      "0.8466666666666667 accuracy on label 4\n",
      "0.9033333333333333 accuracy on label 5\n",
      "0.9566666666666667 accuracy on label 6\n",
      "0.9366666666666666 accuracy on label 7\n",
      "0.0 accuracy on label 8\n",
      "training on label 17\n",
      "(Epoch: 1, NN: 150, ATQE: 3.4693956559381887)\n",
      "(-- Added  148 neuron(s) (total added - total deleted)\n",
      "(-- Removed 8 neuron(s))\n",
      "0.58 accuracy on label 0\n",
      "0.9233333333333333 accuracy on label 1\n",
      "0.38 accuracy on label 2\n",
      "0.7066666666666667 accuracy on label 3\n",
      "0.85 accuracy on label 4\n",
      "0.8766666666666667 accuracy on label 5\n",
      "0.94 accuracy on label 6\n",
      "0.9233333333333333 accuracy on label 7\n",
      "0.92 accuracy on label 8\n",
      "training on label 18\n",
      "(Epoch: 1, NN: 150, ATQE: 3.084414686012539)\n",
      "(-- Added  148 neuron(s) (total added - total deleted)\n",
      "(-- Removed 58 neuron(s))\n",
      "0.59 accuracy on label 0\n",
      "0.9333333333333333 accuracy on label 1\n",
      "0.3433333333333333 accuracy on label 2\n",
      "0.69 accuracy on label 3\n",
      "0.8533333333333334 accuracy on label 4\n",
      "0.8733333333333333 accuracy on label 5\n",
      "0.8733333333333333 accuracy on label 6\n",
      "0.9233333333333333 accuracy on label 7\n",
      "0.9466666666666667 accuracy on label 8\n"
     ]
    }
   ],
   "source": [
    "accuracies = []\n",
    "for j in range(len(ds_train_list)):# 9\n",
    "    print('training on label', j+1)\n",
    "    g.train_ggwr(ds_train_list[j], epochs, a_threshold[0], beta, learning_rates)\n",
    "    accuracy = []\n",
    "    for k in range(9):\n",
    "        g.test_gammagwr(ds_test_list[k], test_accuracy=True)\n",
    "        accuracy.append(g.test_accuracy)\n",
    "        print(g.test_accuracy, 'accuracy on label', k)\n",
    "    accuracies.append(accuracy)"
   ]
  },
  {
   "cell_type": "code",
   "execution_count": 94,
   "metadata": {},
   "outputs": [
    {
     "data": {
      "image/png": "[encoded data removed]",
      "text/plain": [
       "<Figure size 432x288 with 1 Axes>"
      ]
     },
     "metadata": {
      "needs_background": "light"
     },
     "output_type": "display_data"
    }
   ],
   "source": [
    "gtls.plot_network(g, True, True) "
   ]
  },
  {
   "cell_type": "code",
   "execution_count": 48,
   "metadata": {},
   "outputs": [
    {
     "data": {
      "text/plain": [
       "Text(0.5, 1.0, 'Accuracy of the GWR network along the training')"
      ]
     },
     "execution_count": 48,
     "metadata": {},
     "output_type": "execute_result"
    },
    {
     "data": {
      "image/png": "[encoded data removed]",
      "text/plain": [
       "<Figure size 432x288 with 1 Axes>"
      ]
     },
     "metadata": {
      "needs_background": "light"
     },
     "output_type": "display_data"
    }
   ],
   "source": [
    "plt.figure()\n",
    "for j in range(9):\n",
    "    plt.plot(range(1,10),[accuracies[k][j] for k in range(9)], label = 'label '+ str(j))\n",
    "#plt.plot(range(9),[accuracies[k][0] for k in range(9)], label = 'label '+ str(j))    \n",
    "plt.xlabel('% of the dataset/ task the network is being trained on')\n",
    "plt.ylabel('accuracy on testing set')\n",
    "plt.legend()\n",
    "plt.title('Accuracy of the GWR network along the training') "
   ]
  },
  {
   "cell_type": "code",
   "execution_count": 101,
   "metadata": {},
   "outputs": [],
   "source": [
    "#accuracies"
   ]
  },
  {
   "cell_type": "code",
   "execution_count": 95,
   "metadata": {},
   "outputs": [
    {
     "data": {
      "text/plain": [
       "Text(0.5, 1.0, 'Accuracy of the GWR network along the training')"
      ]
     },
     "execution_count": 95,
     "metadata": {},
     "output_type": "execute_result"
    },
    {
     "data": {
      "image/png": "[encoded data removed]",
      "text/plain": [
       "<Figure size 432x288 with 1 Axes>"
      ]
     },
     "metadata": {
      "needs_background": "light"
     },
     "output_type": "display_data"
    }
   ],
   "source": [
    "plt.figure()\n",
    "for j in range(9):#9\n",
    "    plt.plot(np.linspace(0,10,18),[accuracies[k][j] for k in range(18)], label = 'label '+ str(j+1)) # range(1,10,0.5),\n",
    "#plt.plot(range(9),[accuracies[k][0] for k in range(9)], label = 'label '+ str(j))    \n",
    "plt.xlabel('% of the dataset/ task the network is being trained on')\n",
    "plt.ylabel('accuracy on testing set')\n",
    "plt.legend()\n",
    "plt.title('Accuracy of the GWR network along the training') "
   ]
  },
  {
   "cell_type": "code",
   "execution_count": 85,
   "metadata": {},
   "outputs": [
    {
     "name": "stdout",
     "output_type": "stream",
     "text": [
      "Number of images for training: 60000\n",
      "Image size: (28, 28)\n",
      "Number of images for testing: 10000\n",
      "(60000, 784)\n",
      "(10000, 784)\n"
     ]
    }
   ],
   "source": [
    "from GDM_master.gammagwr_static import GammaGWR_static\n",
    "\n",
    "from GDM_master.gammagwr import GammaGWR\n",
    "import GDM_master.gtls as gtls\n",
    "import matplotlib.pyplot as plt\n",
    "import numpy as np\n",
    "import GDM_master.gdm_own as gown\n",
    "\n",
    "from keras.models import Sequential\n",
    "from keras.layers import Dense, Activation\n",
    "import keras.metrics as metrics\n",
    "import keras.losses as losses\n",
    "import keras.optimizers as optimizers\n",
    "import matplotlib.pyplot as plt\n",
    "from keras.models import load_model\n",
    "from keras.utils import np_utils\n",
    "from keras.models import Model\n",
    "\n",
    "\n",
    "from keras.datasets import mnist\n",
    "(X_train, y_train), (X_test, y_test) = mnist.load_data()\n",
    "\n",
    "print(\"Number of images for training: {}\".format(X_train.shape[0]))\n",
    "print(\"Image size: {}\".format(X_train.shape[1:]))\n",
    "print(\"Number of images for testing: {}\".format(X_test.shape[0]))\n",
    "\n",
    "X_train = X_train.reshape(X_train.shape[0], 784)\n",
    "X_test  = X_test.reshape(X_test.shape[0], 784);\n",
    "print(X_train.shape)\n",
    "print(X_test.shape)\n",
    "Y_train = np_utils.to_categorical(y_train, 10)\n",
    "Y_test = np_utils.to_categorical(y_test, 10)\n",
    "\n",
    "\n",
    "labels = range(1,10)\n",
    "\n",
    "def tri_dataset(X, y):\n",
    "    X_train_classes = [[] for i in labels]\n",
    "    for j in range(len(y)):\n",
    "        X_train_classes[y[j]-1].append(X[j])\n",
    "    return X_train_classes\n",
    "\n",
    "\n",
    "X_train_classes = np.array(tri_dataset(X_train, y_train))\n",
    "X_test_classes = np.array(tri_dataset(X_test, y_test))\n",
    "\n",
    "\n",
    "model_popped = load_model('model_popped.h5')\n",
    "for layer in model_popped._layers:\n",
    "    layer.trainable = False\n",
    "\n",
    "X_train_GWR = []\n",
    "for i in X_train_classes:\n",
    "    X_train_GWR.append(model_popped.predict(np.array(i)))\n",
    "    \n",
    "X_train_GWR = np.array(X_train_GWR)\n",
    "\n",
    "\n",
    "X_test_GWR = []\n",
    "for i in X_test_classes:\n",
    "    X_test_GWR.append(model_popped.predict(np.array(i)))\n",
    "    \n",
    "X_train_GWR = np.array(X_train_GWR)\n",
    "\n",
    "X_test_GWR = np.array(X_test_GWR)\n",
    "\n",
    "\n",
    "num_context = 1 # number of context descriptors\n",
    "epochs = 1 # epochs per sample for incremental learning\n",
    "a_threshold = [0.95, 0.9]\n",
    "beta = 0.7\n",
    "learning_rates = [0.2, 0.001]\n",
    "context = True\n",
    "\n",
    "\n",
    "ds_train_list = []\n",
    "ds_test_list = []\n",
    "for j in range(9):\n",
    "    ds_train_list.append(gtls.OwnDataset(X_train_GWR[j][:300], np.array([j+1 for k in range(300)]), 10,normalize=True))\n",
    "    ds_test_list.append(gtls.OwnDataset(X_test_GWR[j][:300], np.array([j+1 for k in range(300)]), 10,normalize=True))"
   ]
  },
  {
   "cell_type": "code",
   "execution_count": 96,
   "metadata": {},
   "outputs": [
    {
     "name": "stdout",
     "output_type": "stream",
     "text": [
      "Randomly initialized weights: \n",
      "\n",
      "[0.         0.         0.         0.19556439 0.         0.\n",
      " 0.         0.         0.         0.         0.         0.\n",
      " 0.         0.         0.         0.         0.         0.\n",
      " 0.         0.         0.         0.         0.         0.\n",
      " 0.         0.15660763 0.         0.         0.         0.50642157\n",
      " 0.         0.         0.         0.57907534 0.09935128 0.\n",
      " 0.         0.18322952 0.         0.         0.         0.\n",
      " 0.         0.29854733 0.         0.         0.         0.\n",
      " 0.6164872  0.         0.         0.         0.         0.\n",
      " 0.         0.         0.         0.         0.06308083 0.\n",
      " 0.         0.         0.         0.52493334 0.         0.\n",
      " 0.         0.         0.         0.         0.         0.\n",
      " 0.03317296 0.         0.45006743 0.         0.         0.\n",
      " 0.         0.         0.4903743  0.3527531  0.         0.\n",
      " 0.         0.         0.         0.2533451  0.         0.3600027\n",
      " 0.         0.         0.         0.         0.         0.\n",
      " 0.19398911 0.         0.         0.         0.         0.\n",
      " 0.         0.         0.5320757  0.         0.45981672 0.6974564\n",
      " 0.23888743 0.         0.         0.         0.         0.\n",
      " 0.         0.         0.04794458 0.         0.         0.\n",
      " 0.         0.         0.         0.         0.79968077 0.\n",
      " 0.         0.         0.19292136 0.         0.         0.2771798\n",
      " 0.         0.         0.4447042  0.         0.7932719  0.\n",
      " 0.         0.         0.         0.         0.19863519 0.57095414\n",
      " 0.43128923 0.         0.         0.         0.0591538  0.\n",
      " 0.         0.         0.0791915  0.         0.         0.3237166\n",
      " 0.         0.72874177 0.         0.         0.         0.\n",
      " 0.         0.         0.32371092 0.         0.1743538  0.\n",
      " 0.         0.38709185 0.5502769  0.         0.         0.\n",
      " 0.         0.45411706 0.         0.         0.         0.\n",
      " 0.         0.         0.         0.         0.         0.\n",
      " 0.         0.         0.         0.2445119  0.03393778 0.3060988\n",
      " 0.         0.         0.         0.         0.         0.\n",
      " 0.         0.21939057 0.         0.         0.12919895 0.\n",
      " 0.         0.         0.         0.         0.         0.\n",
      " 0.         0.         0.         0.         0.         0.\n",
      " 0.         0.         0.         0.27483222 0.4589705  0.\n",
      " 0.         0.         0.         0.         0.         0.\n",
      " 0.7869697  0.0127387  0.         0.         0.30670056 0.\n",
      " 0.         0.         0.         0.         0.         0.\n",
      " 0.         0.         0.38365224 0.         0.         0.\n",
      " 0.         0.         0.         0.         0.         0.8300821\n",
      " 0.         0.         0.         0.         0.01231847 0.\n",
      " 0.         0.         0.4387424  0.         0.         0.\n",
      " 0.         0.         0.46932295 0.         0.         0.\n",
      " 0.         0.6857877  0.         0.         0.         0.\n",
      " 0.         0.         0.         0.         0.         0.\n",
      " 0.         0.25925916 0.51450175 0.32569528 0.         0.\n",
      " 0.         0.         0.         0.         0.         0.2500638\n",
      " 0.         0.         0.         0.42499462 0.         0.\n",
      " 0.         0.         0.         0.         0.         0.\n",
      " 0.         0.6817087  0.         0.5514572  0.2231979  0.\n",
      " 0.         0.         0.         0.5026998  0.         0.\n",
      " 0.         0.         0.         0.         0.79868114 0.\n",
      " 0.18200716 0.         0.         0.         0.         0.\n",
      " 0.15559652 0.         0.         0.         0.         0.\n",
      " 0.         0.         0.         0.         0.         0.\n",
      " 0.         0.         0.         0.         0.         0.\n",
      " 0.         0.         0.         0.         0.         0.\n",
      " 0.         0.         0.         0.         0.         0.\n",
      " 0.         0.         0.         0.         0.         0.\n",
      " 0.         0.         0.         0.06758339 0.         0.\n",
      " 0.6689976  0.         0.         0.         0.         0.\n",
      " 0.         0.         0.         0.16954023 0.         0.\n",
      " 0.         0.11812101 0.         0.         0.         0.\n",
      " 0.         0.5628436  0.46031743 0.         0.         0.\n",
      " 0.         0.         0.         0.25760177 0.         0.\n",
      " 0.         0.         0.         0.18733177 0.         0.\n",
      " 0.         0.         0.6702906  0.         0.         0.\n",
      " 0.         0.         0.5382788  0.         0.64888006 0.\n",
      " 0.         0.         0.         0.26464403 0.         0.\n",
      " 0.         0.         0.24466121 0.         0.         0.\n",
      " 0.5620556  0.         0.         0.         0.40138277 0.5841724\n",
      " 0.         0.         0.         0.21974596 0.         0.\n",
      " 0.         0.         0.         0.1516222  0.48145252 0.\n",
      " 0.34272644 0.516548   0.         0.         0.         0.3828427\n",
      " 0.21044071 0.68403333 0.         0.         0.         0.\n",
      " 0.28015125 0.         0.24066445 0.         0.         0.8325806\n",
      " 0.         0.         0.         0.         0.27446994 0.\n",
      " 0.         0.49672994 0.04171947 0.         0.37325728 0.4600098\n",
      " 0.         0.         0.         0.         0.         0.\n",
      " 0.         0.         0.         0.         0.         0.\n",
      " 0.         0.         0.         0.         0.         0.6989408\n",
      " 0.         0.         0.         0.23329958 0.         0.\n",
      " 0.32905152 0.62896115 0.         0.         0.04234726 0.\n",
      " 0.         0.        ]\n",
      "[0.         0.         0.         0.5893555  0.         0.\n",
      " 0.         0.8667419  0.         0.         0.         0.\n",
      " 0.         0.         0.         0.         0.         0.\n",
      " 0.         0.02058153 0.         0.         0.         0.\n",
      " 0.         0.         0.         0.         0.         0.8232587\n",
      " 0.         0.         0.         0.         0.7934349  0.\n",
      " 0.         0.         0.         0.         0.         0.\n",
      " 0.         0.82479423 0.         0.         0.         0.3502707\n",
      " 0.5680619  0.         0.         0.         0.         0.\n",
      " 0.36794785 0.         0.42656422 0.6956935  0.         0.\n",
      " 0.         0.         0.         0.8872862  0.         0.\n",
      " 0.         0.03945395 0.         0.         0.         0.\n",
      " 0.         0.         0.19037263 0.         0.         0.\n",
      " 0.         0.         0.22515641 0.82030076 0.         0.\n",
      " 0.         0.         0.         0.84494466 0.4605967  0.02470339\n",
      " 0.         0.         0.         0.         0.         0.\n",
      " 0.41911402 0.03282882 0.         0.         0.         0.\n",
      " 0.         0.         0.         0.         0.         0.10175101\n",
      " 0.16931666 0.         0.         0.         0.         0.\n",
      " 0.         0.         0.         0.         0.         0.\n",
      " 0.         0.         0.17219245 0.         0.6569368  0.\n",
      " 0.         0.         0.5492327  0.         0.         0.40852594\n",
      " 0.         0.         0.43904045 0.         0.         0.\n",
      " 0.         0.         0.         0.         0.2578661  0.6221751\n",
      " 0.48335892 0.         0.         0.         0.         0.\n",
      " 0.         0.         0.         0.         0.         0.62914747\n",
      " 0.26818264 0.02727818 0.         0.         0.         0.\n",
      " 0.         0.         0.7923362  0.         0.816501   0.\n",
      " 0.         0.         0.8109822  0.         0.         0.\n",
      " 0.         0.65436184 0.         0.         0.         0.\n",
      " 0.         0.         0.         0.         0.         0.\n",
      " 0.         0.         0.         0.         0.7747497  0.89103\n",
      " 0.         0.         0.         0.         0.         0.12260048\n",
      " 0.         0.         0.         0.         0.         0.\n",
      " 0.         0.         0.         0.         0.         0.\n",
      " 0.         0.         0.         0.         0.         0.\n",
      " 0.         0.         0.         0.00911688 0.         0.\n",
      " 0.         0.         0.         0.         0.19031279 0.\n",
      " 0.         0.3771087  0.         0.         0.8141385  0.\n",
      " 0.         0.540597   0.         0.70343006 0.         0.\n",
      " 0.         0.         0.33972073 0.         0.         0.\n",
      " 0.         0.         0.         0.         0.         0.\n",
      " 0.         0.         0.21132146 0.         0.13610047 0.\n",
      " 0.         0.         0.         0.         0.         0.\n",
      " 0.         0.         0.         0.         0.         0.\n",
      " 0.         0.35451046 0.60472083 0.         0.         0.08752786\n",
      " 0.         0.         0.         0.         0.7932794  0.\n",
      " 0.         0.         0.         0.6965433  0.         0.\n",
      " 0.         0.         0.         0.         0.         0.69891715\n",
      " 0.         0.         0.         0.         0.         0.\n",
      " 0.         0.         0.         0.         0.7188021  0.\n",
      " 0.         0.4178114  0.         0.0455634  0.6079696  0.\n",
      " 0.         0.         0.         0.5491769  0.         0.\n",
      " 0.         0.18476506 0.         0.         0.06701174 0.\n",
      " 0.8495952  0.         0.         0.         0.         0.\n",
      " 0.         0.         0.         0.         0.         0.\n",
      " 0.         0.         0.         0.         0.29696837 0.\n",
      " 0.         0.         0.         0.53909266 0.         0.02796172\n",
      " 0.         0.         0.         0.         0.         0.\n",
      " 0.         0.         0.05394345 0.         0.71794355 0.\n",
      " 0.         0.         0.         0.         0.         0.\n",
      " 0.         0.         0.         0.         0.         0.\n",
      " 0.31852728 0.         0.         0.         0.         0.\n",
      " 0.         0.         0.         0.7400929  0.         0.\n",
      " 0.         0.         0.         0.         0.         0.\n",
      " 0.4544505  0.57502085 0.         0.         0.         0.\n",
      " 0.         0.         0.         0.         0.         0.\n",
      " 0.         0.60180795 0.         0.5154818  0.         0.\n",
      " 0.         0.         0.         0.         0.         0.\n",
      " 0.         0.         0.71862704 0.         0.33049956 0.\n",
      " 0.         0.         0.         0.         0.13888772 0.\n",
      " 0.         0.         0.85924804 0.         0.         0.\n",
      " 0.         0.         0.         0.         0.7893035  0.4059161\n",
      " 0.         0.         0.         0.13066284 0.         0.\n",
      " 0.         0.         0.         0.7202852  0.5241334  0.\n",
      " 0.         0.918677   0.         0.         0.         0.\n",
      " 0.         0.57685256 0.         0.07697374 0.         0.\n",
      " 0.         0.         0.         0.         0.         0.\n",
      " 0.         0.         0.         0.         0.7092686  0.\n",
      " 0.         0.27386215 0.5156427  0.         0.56414944 0.7074655\n",
      " 0.6812568  0.         0.         0.         0.         0.\n",
      " 0.         0.         0.         0.         0.         0.\n",
      " 0.         0.         0.         0.         0.         0.\n",
      " 0.         0.21467271 0.         0.55474436 0.         0.\n",
      " 0.         0.86228603 0.         0.         0.         0.\n",
      " 0.         0.        ]\n"
     ]
    }
   ],
   "source": [
    "from GDM_master.gammagwr_static import GammaGWR_static\n",
    "g_static = GammaGWR_static()\n",
    "g_static.init_network(ds_train_list[0],1)"
   ]
  },
  {
   "cell_type": "code",
   "execution_count": 97,
   "metadata": {},
   "outputs": [
    {
     "data": {
      "text/plain": [
       "150"
      ]
     },
     "execution_count": 97,
     "metadata": {},
     "output_type": "execute_result"
    }
   ],
   "source": [
    "len(ds_train_list[j].vectors)"
   ]
  },
  {
   "cell_type": "markdown",
   "metadata": {},
   "source": [
    "# split each train to get new points"
   ]
  },
  {
   "cell_type": "code",
   "execution_count": 98,
   "metadata": {},
   "outputs": [
    {
     "name": "stdout",
     "output_type": "stream",
     "text": [
      "(Epoch: 1, NN: 400, ATQE: 2.927118356013298)\n",
      "[1.0, 0.0, 0.0, 0.0, 0.0, 0.0, 0.0, 0.0, 0.0]\n",
      "(Epoch: 1, NN: 400, ATQE: 2.9871863941800036)\n",
      "[1.0, 0.0, 0.0, 0.0, 0.0, 0.0, 0.0, 0.0, 0.0]\n",
      "(Epoch: 1, NN: 400, ATQE: 3.6842373793898204)\n",
      "[1.0, 0.0, 0.0, 0.0, 0.0, 0.0, 0.0, 0.0, 0.0]\n",
      "(Epoch: 1, NN: 400, ATQE: 3.342783372590967)\n",
      "[0.0, 1.0, 0.0, 0.0, 0.0, 0.0, 0.0, 0.0, 0.0]\n",
      "(Epoch: 1, NN: 400, ATQE: 3.6940637340661002)\n",
      "[0.0, 1.0, 0.0, 0.0, 0.0, 0.0, 0.0, 0.0, 0.0]\n",
      "(Epoch: 1, NN: 400, ATQE: 3.2223833048954775)\n",
      "[0.0, 0.0, 1.0, 0.0, 0.0, 0.0, 0.0, 0.0, 0.0]\n",
      "(Epoch: 1, NN: 400, ATQE: 3.788155818253044)\n",
      "[0.0, 0.0, 1.0, 0.0, 0.0, 0.0, 0.0, 0.0, 0.0]\n",
      "(Epoch: 1, NN: 400, ATQE: 3.244209827341429)\n",
      "[0.0, 0.0, 0.0, 1.0, 0.0, 0.0, 0.0, 0.0, 0.0]\n",
      "(Epoch: 1, NN: 400, ATQE: 3.868113711084841)\n",
      "[0.0, 0.0, 0.0, 1.0, 0.0, 0.0, 0.0, 0.0, 0.0]\n",
      "(Epoch: 1, NN: 400, ATQE: 3.424135324962207)\n",
      "[0.0, 0.0, 0.0, 0.0, 1.0, 0.0, 0.0, 0.0, 0.0]\n",
      "(Epoch: 1, NN: 400, ATQE: 3.8920466391652)\n",
      "[0.0, 0.0, 0.0, 0.0, 1.0, 0.0, 0.0, 0.0, 0.0]\n",
      "(Epoch: 1, NN: 400, ATQE: 3.403873563128644)\n",
      "[0.0, 0.0, 0.0, 0.0, 0.0, 1.0, 0.0, 0.0, 0.0]\n",
      "(Epoch: 1, NN: 400, ATQE: 3.6219024412869008)\n",
      "[0.0, 0.0, 0.0, 0.0, 0.0, 1.0, 0.0, 0.0, 0.0]\n",
      "(Epoch: 1, NN: 400, ATQE: 3.229347804928059)\n",
      "[0.0, 0.0, 0.0, 0.0, 0.0, 0.0, 1.0, 0.0, 0.0]\n",
      "(Epoch: 1, NN: 400, ATQE: 3.8581933834525133)\n",
      "[0.0, 0.0, 0.0, 0.0, 0.0, 0.0, 1.0, 0.0, 0.0]\n",
      "(Epoch: 1, NN: 400, ATQE: 3.6070858471673066)\n",
      "[0.0, 0.0, 0.0, 0.0, 0.0, 0.0, 0.0, 1.0, 0.0]\n",
      "(Epoch: 1, NN: 400, ATQE: 4.163626600208401)\n",
      "[0.0, 0.0, 0.0, 0.0, 0.0, 0.0, 0.0, 1.0, 0.0]\n",
      "(Epoch: 1, NN: 400, ATQE: 3.4920887392028863)\n",
      "[0.0, 0.0, 0.0, 0.0, 0.0, 0.0, 0.0, 0.0, 1.0]\n"
     ]
    }
   ],
   "source": [
    "accuracies_static = []\n",
    "\n",
    "for j in range(18):#9\n",
    "    g_static.train_ggwr(ds_train_list[j], epochs, a_threshold[0], beta, learning_rates)\n",
    "    accuracy = []\n",
    "    for k in range(9):\n",
    "        g_static.test_gammagwr(ds_test_list[k], test_accuracy=True)\n",
    "        accuracy.append(g_static.test_accuracy)\n",
    "    print(accuracy)\n",
    "    accuracies_static.append(accuracy)"
   ]
  },
  {
   "cell_type": "code",
   "execution_count": 99,
   "metadata": {},
   "outputs": [
    {
     "data": {
      "text/plain": [
       "[[1.0, 0.0, 0.0, 0.0, 0.0, 0.0, 0.0, 0.0, 0.0],\n",
       " [1.0, 0.0, 0.0, 0.0, 0.0, 0.0, 0.0, 0.0, 0.0],\n",
       " [1.0, 0.0, 0.0, 0.0, 0.0, 0.0, 0.0, 0.0, 0.0],\n",
       " [0.0, 1.0, 0.0, 0.0, 0.0, 0.0, 0.0, 0.0, 0.0],\n",
       " [0.0, 1.0, 0.0, 0.0, 0.0, 0.0, 0.0, 0.0, 0.0],\n",
       " [0.0, 0.0, 1.0, 0.0, 0.0, 0.0, 0.0, 0.0, 0.0],\n",
       " [0.0, 0.0, 1.0, 0.0, 0.0, 0.0, 0.0, 0.0, 0.0],\n",
       " [0.0, 0.0, 0.0, 1.0, 0.0, 0.0, 0.0, 0.0, 0.0],\n",
       " [0.0, 0.0, 0.0, 1.0, 0.0, 0.0, 0.0, 0.0, 0.0],\n",
       " [0.0, 0.0, 0.0, 0.0, 1.0, 0.0, 0.0, 0.0, 0.0],\n",
       " [0.0, 0.0, 0.0, 0.0, 1.0, 0.0, 0.0, 0.0, 0.0],\n",
       " [0.0, 0.0, 0.0, 0.0, 0.0, 1.0, 0.0, 0.0, 0.0],\n",
       " [0.0, 0.0, 0.0, 0.0, 0.0, 1.0, 0.0, 0.0, 0.0],\n",
       " [0.0, 0.0, 0.0, 0.0, 0.0, 0.0, 1.0, 0.0, 0.0],\n",
       " [0.0, 0.0, 0.0, 0.0, 0.0, 0.0, 1.0, 0.0, 0.0],\n",
       " [0.0, 0.0, 0.0, 0.0, 0.0, 0.0, 0.0, 1.0, 0.0],\n",
       " [0.0, 0.0, 0.0, 0.0, 0.0, 0.0, 0.0, 1.0, 0.0],\n",
       " [0.0, 0.0, 0.0, 0.0, 0.0, 0.0, 0.0, 0.0, 1.0]]"
      ]
     },
     "execution_count": 99,
     "metadata": {},
     "output_type": "execute_result"
    }
   ],
   "source": [
    "accuracies_static"
   ]
  },
  {
   "cell_type": "code",
   "execution_count": 100,
   "metadata": {},
   "outputs": [
    {
     "data": {
      "text/plain": [
       "Text(0.5, 1.0, '')"
      ]
     },
     "execution_count": 100,
     "metadata": {},
     "output_type": "execute_result"
    },
    {
     "data": {
      "image/png": "[encoded data removed]",
      "text/plain": [
       "<Figure size 432x288 with 1 Axes>"
      ]
     },
     "metadata": {
      "needs_background": "light"
     },
     "output_type": "display_data"
    }
   ],
   "source": [
    "plt.figure()\n",
    "for j in range(9):\n",
    "    plt.plot(np.linspace(0,10,18),[accuracies_static[k][j] for k in range(18)], label = 'label '+ str(j))#9 range(1,10),\n",
    "#plt.plot(range(9),[accuracies[k][0] for k in range(9)], label = 'label '+ str(j))    \n",
    "plt.xlabel('% of the dataset/ task the network is being trained on')\n",
    "plt.ylabel('accuracy')\n",
    "plt.legend()\n",
    "plt.title('') "
   ]
  },
  {
   "cell_type": "markdown",
   "metadata": {},
   "source": [
    "# <a id=\"sec7\"></a> Conclusion"
   ]
  },
  {
   "cell_type": "markdown",
   "metadata": {},
   "source": [
    "## <a id=\"sec8\"></a> Sources:\n",
    "The following papers were used in the making of this notebook:\n",
    "- https://u1093.u-bourgogne.fr/images/stories/labo/pdf/Elisabeth-Thomas/Cours/MVibot/kohonen_no_itvibot.pdf\n",
    "- https://github.com/giparisi/GDM/blob/master/gdm_demo.py\n",
    "- https://glowingpython.blogspot.com/2013/09/self-organizing-maps.html\n",
    "- https://github.com/giparisi/gwr-tb\n",
    "- https://glowingpython.blogspot.com/2013/09/self-organizing-maps.html\n",
    "- https://www.sciencedirect.com/science/article/pii/S0893608002000783\n",
    "- catastrophic forgetting: https://github.com/ariseff/overcoming-catastrophic/blob/master/experiment.ipynb\n",
    "- neurogenesis catastrophic forgetting https://arxiv.org/pdf/1612.03770.pdf\n",
    "- https://github.com/ariseff/overcoming-catastrophic"
   ]
  },
  {
   "cell_type": "code",
   "execution_count": null,
   "metadata": {},
   "outputs": [],
   "source": []
  }
 ],
 "metadata": {
  "kernelspec": {
   "display_name": "Python 3",
   "language": "python",
   "name": "python3"
  },
  "language_info": {
   "codemirror_mode": {
    "name": "ipython",
    "version": 3
   },
   "file_extension": ".py",
   "mimetype": "text/x-python",
   "name": "python",
   "nbconvert_exporter": "python",
   "pygments_lexer": "ipython3",
   "version": "3.7.3"
  }
 },
 "nbformat": 4,
 "nbformat_minor": 2
}
