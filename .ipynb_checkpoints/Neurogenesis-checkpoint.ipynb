{
 "cells": [
  {
   "cell_type": "markdown",
   "metadata": {},
   "source": [
    "\n",
    "<div style=\"font-size:22pt; line-height:25pt; font-weight:bold; text-align:center;\">On the role of neurogenesis in overcoming catastrophic forgetting</div>"
   ]
  },
  {
   "cell_type": "markdown",
   "metadata": {},
   "source": [
    "<br><br>\n",
    "## Plan: \n",
    "\n",
    "\n",
    "1. [Definitions](#sec1)\n",
    "2. [Introduction](#sec2)\n",
    "2. [Self Organizing networks](#sec3)\n",
    "4. [Criterias for the plasticity](#sec4)\n",
    "5. [How to classify more complex data](#sec5)\n",
    "6. [Comparison of a dynamically grown and a static network](#sec6)\n",
    "7. [Conclusion](#sec7)\n",
    "8. [Sources](#sec8)"
   ]
  },
  {
   "cell_type": "markdown",
   "metadata": {},
   "source": [
    "<br><br>\n",
    "# <a id=\"sec1\"></a> 1. Definitions\n",
    "\n",
    "A few technical terms need to be defined in order to fully understand the matter:<br><br>\n",
    "\n",
    "- **plasticity**: <br> <p>\n",
    " (*biology*) the adaptability of an organism to changes in its environments. Neuroplasticity refers to the ability of the brain to change continuously throughout an individual's life. We can easily understand what it refers to in Deep Learning.\n",
    "<br><br>\n",
    "\n",
    "- **stability**: <br> <p> (*of a neural network*) the ability to keep a stable classification accuracy of the function it had previously learned while being trained on other ones. \n",
    "<br><br>\n",
    "\n",
    "<img align=\"right\" img src=\"images/im1.png\" width=\"400\" title='catastrophic forgetting'>\n",
    "    \n",
    "- **catastrophic forgetting**: <br> <p>\n",
    "(or *catastrophic interference*) the tendency of a neural network to 'forget' previously learned information upon learning new information. \n",
    "As an example, if a classification model being trained is shifted to a different set of objects, it will proceed to forget the original set due to a representation shift. \n",
    "<br> Let's say you would like to train a neural network in order to recognize a specific object on a large dataset of images. If you first train the neural network with images where the object is seen on a close range, from the side, and afterwards on a set where it is seen from above, and from far away, it will proceed to forget the information it learned with the first set. This raises issues, for instance, when carrying out unsupervised learning on videos.\n",
    "<br> This issue can be seen as a _stability-plasticity_ dilemma. On the one side, when a neural network is being trained on very different elements, we would like it to have a good plasticity, that would allow it to quickly learn the new elements, but on the other side, it would be perfect for the network to have a good stability, and therefore remember well the items seen long ago.    <br><br>\n",
    "    \n",
    "\n",
    "\n",
    "- **neurogenesis**: <br> <p>\n",
    "(*biology*): the process by which neurons are formed in the brain.<br>\n",
    "(*neural network*):  the ability to create or delete neurons. Neurons of this kind are *dynamically grown*. <br><br>\n",
    "    \n",
    "\n",
    "\n"
   ]
  },
  {
   "cell_type": "markdown",
   "metadata": {},
   "source": [
    "<br><br>\n",
    "# 2. <a id=\"sec2\"></a> Introduction\n",
    "<br><br>\n",
    "This notebook was made for exploring how the use of neurogenesis might mitigate, or even overcome catastrophic forgetting. <br>\n",
    "In the first part, we will focus on an introduction of self-organizing networks, along with some very straightforward implementations of it. We will then describe neurogenesis, and how giving neural networks the capacity to grow new neurons might help. \n",
    "<br><br>\n",
    "Finally, we will compare the performances of a static and a growing network."
   ]
  },
  {
   "cell_type": "markdown",
   "metadata": {},
   "source": [
    "<br><br> \n",
    "# 3. <a id=\"sec3\"></a>Self Organizing Networks\n",
    "\n",
    "<br><br>\n",
    "### 1 - Description\n",
    "**Self Organizing Networks** are neural networks based on the topographical organization of the brain. Unlike those trained with backpropagation, self organizing networks are unsupervized. The neurons concerning the same type of information are therefore wired, or located in a similar spatial location. This is based on observations of the brain. For instance, neurons in the visual cortex activates when a bar of light is seen at a specific angle. Neurons that respond to similar bars are located next to each other in the visual cortex. Hence, there is no error feedback, or no supervision in the training of these networks.<br><br>   <img src=\"images/visual_cortex.png\" width=\"350\" title='visual cortex'>  <br><br>\n"
   ]
  },
  {
   "cell_type": "markdown",
   "metadata": {},
   "source": [
    "<br><br>\n",
    "### 2 - Training\n",
    "The network is composed of a set of neurons, $A$, each neuron consisting of a weight vector $w_j \\in \\mathbb{R}^{n}$.<br> A self-organized neural network would therefore look the following way:\n",
    "<br><br>   <img src='images/im3.png' width=\"400\" title='self-organized neural network'>\n",
    "<br><br>\n",
    "Training the network is done in a very simple way:\n",
    "\n",
    "Given an input $x(t) \\in \\mathbb{R}^{n}$: <br>\n",
    "- We compute the distance $d_j$ of each neuron to the input. That is to say the distance between the weight vector of the neuron and the weight vector. $d_{j} = \\alpha_{0} \\lVert x (t) - w_{j}\\lVert^{2}$, with $\\lVert\\lVert$ as the euclidian norm.\n",
    "- We compute the 'best-matching unit' or BMU: $b = argmin(d_{j}, j \\in A)$\n",
    "- We then update the weights of the neurons that are connected to the BMU, with, for $i\\in \\{b,n\\}$, $n$ being the neighbors neurons of the BMU: $\\Delta w_{i} = \\epsilon_{i}h_{i}(x(t)-w_{i})$, with $h_i \\in [0,1]$ being an 'habituation counter', that is to say an indicator of how frequently the neuron has fired. For each neuron $i$, $h_i = 1$ at the beginning of the training. \n",
    "- The habituation counter of the BMU and its neighboring neurons decreases iteratively towards 0: $\\Delta h_{i} = \\tau_{i}\\kappa(1-h_{i}) - \\tau_{i}$, with $i\\in \\{b,n\\}$, or: $h{i}(t+1) = \\frac{h{i}(t)}{\\tau}$\n",
    "\n",
    "<br><br>\n",
    "Using this technique, the network will map from the input space to an usually lower dimensional map field. Hence, once the BMU (the node that best matches the input) is found, its weights vector is moved in the dimensional space towards that of the input. Hence, perceptions that look like each other end up close to each other (resembling the neuronal organization in the brain). <br><br>\n",
    "On the figure below, the blue cloud is the distribution of the training data. The weights are primarily randomly chosen, positionning the neurons arbitrarily in the data space. When a new input is given (white point), the BMU is, along with some of its neighbors, moved closer to the input's position. Iterations after iterations, the neural network (or grid) tends to approximate the distribution.\n",
    "<br><br>   <img src='images/im5.png' width=\"800\" title='training process of a self-organizing neural network, projected in 2D'>\n",
    "<br><br>\n",
    "\n",
    "\n",
    "<img align=\"right\" img src='images/im4.gif' width=\"200\" title='animated training process of a self-organizing neural network, projected in 2D'>\n",
    "Let's dive into an useful application of thos networks. Imagine that you would like to classify datapoints according to the three clusters on the image on the right. You could train such a network in order to map the distribution, you can afterward add an output layer, and create connections between the hidden and output layers so that the net produces the same output if any nodes in a particular neighborhood is activated, that is to say when the distance between its weights and the input is the shortest. \n",
    "<br><br>\n"
   ]
  },
  {
   "cell_type": "markdown",
   "metadata": {},
   "source": [
    "<br><br>\n",
    "### 3 - A straightforward example"
   ]
  },
  {
   "cell_type": "markdown",
   "metadata": {},
   "source": [
    "Let's say that we whould like to classify some information on a very simple case, in order to better grasp what is happening there. <br><br>\n",
    "\n",
    "\\begin{equation*}\n",
    "data = \n",
    "\\begin{pmatrix}\n",
    "1 & 1 & 0 & 0 \\\\\n",
    "0 & 0 & 1 & 0 \\\\\n",
    "0  & 1  & 0 & 0  \\\\\n",
    "0 & 0 & 1 & 1 \n",
    "\\end{pmatrix}\n",
    "\\end{equation*}\n",
    "<br><br>\n",
    "The rows represent some measures we have made, and we would like to categorize those in two clusters. We might imagine that the first and third raws will be in the same clusters, and the second and third ones also.<br><br>\n",
    "\n",
    "\n",
    "Our neural network will look like the following (with two *output* cells in order to get two classes):\n",
    "\n",
    "<br><br>   <img src='images/im2.png' width=\"400\" title='simple self-organized neural network'>\n",
    "<br><br>\n",
    "\n",
    "\n",
    "\n",
    "We will keep, for all $i \\in \\mathbb{N}$, $h_{i}(t+1) = \\frac{h_{i}(t)}{2}$ and $\\epsilon_i = 0.6$, and randomly initialize the weight matrix to: <br> <br>\n",
    "\\begin{equation*}\n",
    "W = \n",
    "\\begin{pmatrix}\n",
    "0.2 & 0.8 \\\\\n",
    "0.6 & 0.4 \\\\\n",
    "0.5 & 0.7 \\\\\n",
    "0.9 & 0.3\n",
    "\\end{pmatrix}\n",
    "\\end{equation*}"
   ]
  },
  {
   "cell_type": "markdown",
   "metadata": {},
   "source": [
    "Let's compute the distance for the first vector, $(1,1,0,0)$: <br><br>\n",
    "We get: \n",
    "\\begin{equation*}\n",
    "d_1 = (0.2-1)^2 + (0.6-1)^2 + (0.5-0)^2 + (0.9-0)^2 = 1.86\n",
    "\\end{equation*}\n",
    "\\begin{equation*}\n",
    "d_2 = (0.8-1)^2 + (0.4-1)^2 + (0.7-0)^2 + (0.3-0)^2 = 0.98\n",
    "\\end{equation*}\n",
    "\n",
    "Hence, the first vector is closer to the output node 2, we can therefore update the weights of this node using:\n",
    "\\begin{equation*}\n",
    "w_i{}(t+1)=w_{i}(t)+0.6(x –w_{i}(t))\n",
    "\\end{equation*}\n",
    "<br>Therefore, we get: \n",
    "\\begin{equation*}\n",
    "W = \n",
    "\\begin{pmatrix}\n",
    "0.2 & 0.92 \\\\\n",
    "0.6 & 0.76 \\\\\n",
    "0.5 & 0.28 \\\\\n",
    "0.9 & 0.12\n",
    "\\end{pmatrix}\n",
    "\\end{equation*}\n",
    "<br>We repeat those operations for the other vectors in order to complete a first cycle of learning."
   ]
  },
  {
   "cell_type": "markdown",
   "metadata": {},
   "source": [
    "\n",
    "\n",
    "By repeating those cycle a hundred times, we get:\n",
    " \n",
    "\\begin{equation*}\n",
    "W_{100} = \n",
    "\\begin{pmatrix}\n",
    "6e-17 & 1 \\\\\n",
    "2e-16 & 0.49 \\\\\n",
    "0.51 & 2e-16 \\\\\n",
    "1 & 1e-16\n",
    "\\end{pmatrix}\n",
    "\\end{equation*}\n",
    "\n",
    "And the matrix keeps converging towards:\n",
    "\\begin{equation*}\n",
    "W_{inf} = \n",
    "\\begin{pmatrix}\n",
    "0 & 1 \\\\\n",
    "0 & 0.5 \\\\\n",
    "0.5 & 0\\\\\n",
    "1 & 0\n",
    "\\end{pmatrix}\n",
    "\\end{equation*}\n",
    "<br><br>\n",
    "The first column being the average of the vectors in the first cluster, and the second being the average of the ones in the second. Hence, if we compute the distance of each vector to its cluster we get:\n",
    "\\begin{equation*}\n",
    "d_{cluster 1} = (0)^2 + (0.5)^2 + (0)^2 + (0)^2 = 1.25\n",
    "\\end{equation*}\n",
    "And to the other cluster:\n",
    "\\begin{equation*}\n",
    "d_{cluster 2} \\geq (1)^2 + (0.5)^2 + (1)^2  = 1.25\n",
    "\\end{equation*}\n",
    "\n",
    "Therefore, those vectors have been classified, and we could now classify other vectors by computing their distance to the weight matrix."
   ]
  },
  {
   "cell_type": "markdown",
   "metadata": {},
   "source": [
    "<br><br>\n",
    "### 4 - Intuition\n",
    "\n",
    "Let's try to grasp what happened there:\n",
    "- The network adapted its weights so that the neurons corresponding to the different clusters have weights corresponding to the inputs that correspond to those clusters.\n",
    "- This reminds us of what we had seen about the visual cortex: neurons that correspond to the same category of inputs, or the same clusters, get activated at the same time, and are linked by weights: they are located in a similar spatial location.\n"
   ]
  },
  {
   "cell_type": "markdown",
   "metadata": {},
   "source": [
    "<br><br>\n",
    "### 5.  Simulation:\n",
    "Let's classify vectors the same way it was done in the examples.<br><br>"
   ]
  },
  {
   "cell_type": "code",
   "execution_count": 1,
   "metadata": {},
   "outputs": [],
   "source": [
    "import numpy as np"
   ]
  },
  {
   "cell_type": "markdown",
   "metadata": {},
   "source": [
    "<br>\n",
    "\n",
    "#### training data creation:\n",
    "Our training matrix will be a block diagonal matrix:\n",
    "\n",
    "\\begin{equation*}\n",
    "data = \n",
    "\\begin{pmatrix}\n",
    "(...) & 0 & 0 & 0 \\\\\n",
    "0 & (...) & 0 & 0 \\\\\n",
    "0  & 0  & (...) & 0  \\\\\n",
    "0 & 0 & 0 & (...) \n",
    "\\end{pmatrix}\n",
    "\\end{equation*}\n",
    "\n",
    "Each class being composed of the lines corresponding to one block.\n",
    "\n"
   ]
  },
  {
   "cell_type": "code",
   "execution_count": 2,
   "metadata": {},
   "outputs": [],
   "source": [
    "def create_dataset(classes, size_data, length_data, verbose = False):\n",
    "    \"\"\"\n",
    "    Creates a block diagonal matrix composed with:\n",
    "    - classes blocks\n",
    "    - length_data rows\n",
    "    - size_data columns\n",
    "    \"\"\"\n",
    "    data = []\n",
    "    for c in range(classes):\n",
    "        for k in range(length_data//classes):\n",
    "            line = [0 for l in range(size_data)]\n",
    "            for i in range(size_data//classes * c, size_data//classes * (c + 1)):\n",
    "                u = np.random.uniform(9,10)\n",
    "                line[i] = np.random.uniform(u+1,u + 2)\n",
    "                #line[i] = 1\n",
    "            data.append(line)\n",
    "        if(verbose):\n",
    "            print('class',c+1,'sample line: ', line)\n",
    "    for j in range(length_data%classes):\n",
    "        line = [0 for l in range(size_data)]\n",
    "        for i in range(size_data//classes * (classes-1), size_data//classes * (classes)):\n",
    "            u = np.random.uniform(9,10)\n",
    "            line[i] = np.random.uniform(u+1,u + 2)\n",
    "        data.append(line)\n",
    "    return data"
   ]
  },
  {
   "cell_type": "code",
   "execution_count": 3,
   "metadata": {},
   "outputs": [
    {
     "name": "stdout",
     "output_type": "stream",
     "text": [
      "class 1 sample line:  [10.765199421639013, 10.243924694591971, 0, 0, 0, 0, 0, 0, 0, 0, 0, 0]\n",
      "class 2 sample line:  [0, 0, 11.574344024146647, 10.92712958095579, 0, 0, 0, 0, 0, 0, 0, 0]\n",
      "class 3 sample line:  [0, 0, 0, 0, 11.100785080118223, 11.470921333208606, 0, 0, 0, 0, 0, 0]\n",
      "class 4 sample line:  [0, 0, 0, 0, 0, 0, 10.972698535159903, 10.646576108683337, 0, 0, 0, 0]\n",
      "class 5 sample line:  [0, 0, 0, 0, 0, 0, 0, 0, 11.164633603190047, 10.215400692262033, 0, 0]\n",
      "class 6 sample line:  [0, 0, 0, 0, 0, 0, 0, 0, 0, 0, 11.078228454795187, 10.735797307935712]\n"
     ]
    }
   ],
   "source": [
    "classes = 6\n",
    "size_data = 12\n",
    "length_data = 500\n",
    "nb_active_neurons = 2\n",
    "max_output_neurons = 8\n",
    "\n",
    "data = create_dataset(classes,size_data, length_data, True)"
   ]
  },
  {
   "cell_type": "markdown",
   "metadata": {},
   "source": [
    "<br><br>\n",
    "#### static self-organizing network\n",
    "It will consist in:\n",
    "- *size_data* input cells\n",
    "- *max_output_neurons* output cells"
   ]
  },
  {
   "cell_type": "code",
   "execution_count": 4,
   "metadata": {},
   "outputs": [],
   "source": [
    "def distance(inp, W, nb_active_neurons):\n",
    "    \"\"\"\n",
    "    Returns an array with the distance between the input and the weights of each one of the 'output layer' neurons\n",
    "    \"\"\"    \n",
    "    return np.array([0])\n",
    "\n",
    "\n",
    "def train_cycle_static(inp,W_static):\n",
    "    \"\"\"\n",
    "    For a static network W:\n",
    "    Finds the BMU correponding to the input\n",
    "    updates W and h accordingly\n",
    "    \"\"\"\n",
    "    bmu = np.argmin(distance(inp, W_static, max_output_neurons))\n",
    "    W_static[bmu] += h_static[bmu] * epsilon_static[bmu] * (inp - W_static[bmu])\n",
    "    h_static[bmu] = h_static[bmu] * (1 - tau * kappa) + tau * (kappa - 1)\n",
    "\n",
    "    \n",
    "def train_network_static(data, W):\n",
    "    \"\"\"\n",
    "    For a static network W:\n",
    "    Trains the network on data\n",
    "    \"\"\"\n",
    "    for i in range(len(data)):\n",
    "        train_cycle_static(np.array(data[i]),W_static)\n",
    "    print('final h :\\n', h_static, '\\n\\n')"
   ]
  },
  {
   "cell_type": "code",
   "execution_count": 5,
   "metadata": {},
   "outputs": [
    {
     "name": "stdout",
     "output_type": "stream",
     "text": [
      "final h :\n",
      " [1. 1. 1. 1. 1. 1. 1. 1.] \n",
      "\n",
      "\n"
     ]
    }
   ],
   "source": [
    "tau = 0 # To complete\n",
    "kappa = 0 # To complete\n",
    "\n",
    "W_static = np.random.rand(max_output_neurons, size_data)\n",
    "epsilon_static = np.array([0.6 for j in range(max_output_neurons)])\n",
    "h_static = np.array([1. for j in range(max_output_neurons)])\n",
    "\n",
    "train_network_static(data, W_static)"
   ]
  },
  {
   "cell_type": "markdown",
   "metadata": {},
   "source": [
    "<div class=\"alert alert-success\">\n",
    "    \n",
    "**Exercise 1:**<br>\n",
    "- Write a function distance that computes the distance between each output neuron and the input, and returns an array containing those.\n",
    "- Modify $\\tau$ and $\\kappa$ in order to get a network that has as many output neurons as classes (the number that was chosen when the dataset was created).\n",
    "</div>"
   ]
  },
  {
   "cell_type": "markdown",
   "metadata": {},
   "source": [
    "<div class=\"alert alert-warning\">\n",
    "    \n",
    "**Hint:**<br>\n",
    "\n",
    "    \n",
    "- 'final h' shows you the h of each output neuron at the end of the training. Hence, if the network had learnt only four classes, there should only be four h very close to 0 (very trazined neurons). the other ones should be closer to 1.\n",
    "</div>"
   ]
  },
  {
   "cell_type": "code",
   "execution_count": 8,
   "metadata": {},
   "outputs": [],
   "source": [
    "# %load solutions/code1.py"
   ]
  },
  {
   "cell_type": "markdown",
   "metadata": {},
   "source": [
    "As we can see above, with the right $\\tau$ and $\\kappa$, the self-organizing network learned how many classes there are without being told before (only some output neurons were trained throughough the process). <br><br>\n",
    "\n",
    "#### TEST: \n",
    "Let's generate some new data and test the accuracy of the network on it:"
   ]
  },
  {
   "cell_type": "code",
   "execution_count": 9,
   "metadata": {},
   "outputs": [],
   "source": [
    "def most_frequent(List): \n",
    "    \"\"\"\n",
    "    Finds the most frequent item in an array\n",
    "    \"\"\"\n",
    "    counter = 0\n",
    "    num = List[0] \n",
    "      \n",
    "    for i in List: \n",
    "        curr_frequency = List.count(i) \n",
    "        if(curr_frequency> counter): \n",
    "            counter = curr_frequency \n",
    "            num = i \n",
    "    return num \n",
    "\n",
    "length_data_test = 500\n",
    "\n",
    "\n",
    "def test_network(W_static, length_data_test, nb_neurons, verbose = False):\n",
    "    \"\"\"\n",
    "    Prints the neurons that was activated for a specific class and the precision of the predictions on this class\n",
    "    \"\"\"\n",
    "    data_test = create_dataset(classes,size_data,length_data_test)\n",
    "    y_pred = []\n",
    "    for c in range(classes):\n",
    "        pred_c = []\n",
    "        for j in range(length_data_test//classes):\n",
    "            pred_c.append(np.argmin(distance(data_test[(length_data_test//classes) * c + j], W_static, nb_neurons)))\n",
    "        y_pred.append(pred_c)\n",
    "    for k in range(len(y_pred)):\n",
    "        m = most_frequent(y_pred[k])\n",
    "        if(verbose):\n",
    "            print('the ', k, 'th class has activated neuron number ', m ,' with a precision of ', y_pred[k].count(m)/len(y_pred[k]) )"
   ]
  },
  {
   "cell_type": "code",
   "execution_count": 10,
   "metadata": {},
   "outputs": [
    {
     "name": "stdout",
     "output_type": "stream",
     "text": [
      "the  0 th class has activated neuron number  1  with a precision of  1.0\n",
      "the  1 th class has activated neuron number  0  with a precision of  1.0\n",
      "the  2 th class has activated neuron number  6  with a precision of  1.0\n",
      "the  3 th class has activated neuron number  3  with a precision of  1.0\n",
      "the  4 th class has activated neuron number  4  with a precision of  1.0\n",
      "the  5 th class has activated neuron number  2  with a precision of  1.0\n"
     ]
    }
   ],
   "source": [
    "test_network(W_static, 500, max_output_neurons, True)"
   ]
  },
  {
   "cell_type": "markdown",
   "metadata": {},
   "source": [
    "Hence, for this pretty simple classification task, the self organized neural network has performed very well. Here, each neuron corresponds to one class, and the predictions are made with a very good accuracy."
   ]
  },
  {
   "cell_type": "markdown",
   "metadata": {},
   "source": [
    "<br><br>\n",
    "# 4. <a id=\"sec4\"></a>Criterias for the plasticity\n",
    "\n",
    "\n",
    "Neurogenesis in neural networks creates a structural plasticity, giving the network the ability to modify its architecture in order to learn new patterns, instead of relying on the sole modification of weights that previously learned other pattern. This might mitigate the disruptive interference of existing internal representations when learing from novel sensory observations. We will now introduce criterias in order to find out how and when to add a neuron to the network:\n",
    "- We will first determine two thresholds: $a_{T}$ and $h_{T}$\n",
    "- At each iteration, we will compute the activity of the network as: $a(t) = exp(-d_{b})$ right after having found the best matching unit. The highest possible activity is therefore 1, when $d_b = 0$ and the network perfectly matches the input. \n",
    "- After each iterations, a new neuron will be created whenever the activity of the network will be below $a_{T}$, and the habituation counter of the BMU $h_{b}$ will be below $h_{T}$. The first condition will ensure that a neuron will only be created when none of the existing neurons really matches the new input (it will allow us to get neurons matching this kind of inputs without having to modify the previous ones). The second contition will ensure that the already existing neurons have already been trained before new ones are added.\n",
    "\n",
    "The newly created neurons are fully connected, and have an habituation counter of $h=1$, and are created halfway between the BMU and the input.\n",
    "\n",
    "This set of rules will allow the network to add neurons, and the network will be initialized with two neurons (outputs), which is the minimum for required for the discriminative ability (we need at least two classes or clusters).\n"
   ]
  },
  {
   "cell_type": "markdown",
   "metadata": {},
   "source": [
    "<div class=\"alert alert-block alert-info\"> \n",
    "    \n",
    "**NB:** We can imagine that giving a neural network the opportunity to create new neurons might give it a technical advantage as it could get many more neurons than the static one. Hence, the number of neurons of the dynamically grown networks will be bounded by the one of the static neural networks throughout this notebook."
   ]
  },
  {
   "cell_type": "markdown",
   "metadata": {},
   "source": [
    "<br><br>\n",
    "#### self-organized network with plasticity:\n",
    "Our initial growing self-organized neural network will consist in:\n",
    "- size_data input cells\n",
    "- two output cells\n",
    "\n",
    "Some room will be left in the weights matrix in order to create new neurons if needed."
   ]
  },
  {
   "cell_type": "code",
   "execution_count": 11,
   "metadata": {},
   "outputs": [],
   "source": [
    "def train_cycle_growing(inp,W, nb_active_neurons):\n",
    "    \"\"\"\n",
    "    For a growing network W:\n",
    "    Finds the BMU correponding to the input\n",
    "    updates W and h accordingly\n",
    "    \"\"\"\n",
    "    bmu = np.argmin(distance(inp, W, nb_active_neurons))\n",
    "    activity = np.exp(-np.min(distance(inp, W, max_output_neurons)))\n",
    "    if(False): #Replace condition\n",
    "        W[nb_active_neurons] = (W[bmu] + inp)/2\n",
    "        nb_active_neurons += 1\n",
    "    else:\n",
    "        W[bmu] += h[bmu] * epsilon[bmu] * (inp - W[bmu])\n",
    "        h[bmu] = 0.95*h[bmu]\n",
    "    return nb_active_neurons\n",
    "\n",
    "\n",
    "\n",
    "def train_network_growing(W,data,verbose = False):\n",
    "    \"\"\"\n",
    "    For a growing network W:\n",
    "    trains the network on data\n",
    "    \"\"\"\n",
    "    nb = 2\n",
    "    for i in range(len(data)):\n",
    "        nb = train_cycle_growing(np.array(data[i]),W, nb)\n",
    "    if(verbose):\n",
    "        print(nb - 2,' new neuron were added to the network \\n')\n",
    "        print('h: \\n', h, '\\n\\n')\n",
    "        print('W: \\n', W)"
   ]
  },
  {
   "cell_type": "code",
   "execution_count": 12,
   "metadata": {},
   "outputs": [
    {
     "name": "stdout",
     "output_type": "stream",
     "text": [
      "randomly initialized weights matrix, with only two active output neurons: \n",
      "\n",
      " [[0.11877502 0.30801594 0.17619453 0.83068272 0.14041703 0.08303658\n",
      "  0.43286125 0.44467669 0.61509896 0.07589752 0.14154901 0.91415886]\n",
      " [0.39258591 0.22201004 0.96840233 0.5401764  0.14643883 0.91592281\n",
      "  0.70470009 0.37470597 0.3852352  0.10591687 0.62136818 0.88497287]\n",
      " [0.         0.         0.         0.         0.         0.\n",
      "  0.         0.         0.         0.         0.         0.        ]\n",
      " [0.         0.         0.         0.         0.         0.\n",
      "  0.         0.         0.         0.         0.         0.        ]\n",
      " [0.         0.         0.         0.         0.         0.\n",
      "  0.         0.         0.         0.         0.         0.        ]\n",
      " [0.         0.         0.         0.         0.         0.\n",
      "  0.         0.         0.         0.         0.         0.        ]\n",
      " [0.         0.         0.         0.         0.         0.\n",
      "  0.         0.         0.         0.         0.         0.        ]\n",
      " [0.         0.         0.         0.         0.         0.\n",
      "  0.         0.         0.         0.         0.         0.        ]]\n"
     ]
    }
   ],
   "source": [
    "aT = 0.05 # to complete\n",
    "hT = 0.01 # to complete\n",
    "\n",
    "W = np.random.rand(2, size_data)\n",
    "W = np.r_[W, np.zeros((max_output_neurons - 2, size_data))]\n",
    "\n",
    "epsilon = np.array([0.6 for j in range(max_output_neurons)])\n",
    "h = np.array([1. for j in range(max_output_neurons)])\n",
    "\n",
    "print('randomly initialized weights matrix, with only two active output neurons: \\n\\n', W)"
   ]
  },
  {
   "cell_type": "code",
   "execution_count": 13,
   "metadata": {},
   "outputs": [
    {
     "name": "stdout",
     "output_type": "stream",
     "text": [
      "0  new neuron were added to the network \n",
      "\n",
      "h: \n",
      " [5.13740028e-10 1.41598691e-02 1.00000000e+00 1.00000000e+00\n",
      " 1.00000000e+00 1.00000000e+00 1.00000000e+00 1.00000000e+00] \n",
      "\n",
      "\n",
      "W: \n",
      " [[5.15918807e-08 1.33791787e-07 9.21347096e+00 9.28886771e+00\n",
      "  1.70567074e+00 1.69157028e+00 2.60073040e-02 2.60943281e-02\n",
      "  3.72922601e-04 3.66313154e-04 5.32003284e-06 5.58312438e-06]\n",
      " [1.10223892e+01 1.09962535e+01 4.98733001e-07 2.78194080e-07\n",
      "  7.54168761e-08 4.71705731e-07 3.62924764e-07 1.92975818e-07\n",
      "  1.98398436e-07 5.45478211e-08 3.20008335e-07 4.55766327e-07]\n",
      " [0.00000000e+00 0.00000000e+00 0.00000000e+00 0.00000000e+00\n",
      "  0.00000000e+00 0.00000000e+00 0.00000000e+00 0.00000000e+00\n",
      "  0.00000000e+00 0.00000000e+00 0.00000000e+00 0.00000000e+00]\n",
      " [0.00000000e+00 0.00000000e+00 0.00000000e+00 0.00000000e+00\n",
      "  0.00000000e+00 0.00000000e+00 0.00000000e+00 0.00000000e+00\n",
      "  0.00000000e+00 0.00000000e+00 0.00000000e+00 0.00000000e+00]\n",
      " [0.00000000e+00 0.00000000e+00 0.00000000e+00 0.00000000e+00\n",
      "  0.00000000e+00 0.00000000e+00 0.00000000e+00 0.00000000e+00\n",
      "  0.00000000e+00 0.00000000e+00 0.00000000e+00 0.00000000e+00]\n",
      " [0.00000000e+00 0.00000000e+00 0.00000000e+00 0.00000000e+00\n",
      "  0.00000000e+00 0.00000000e+00 0.00000000e+00 0.00000000e+00\n",
      "  0.00000000e+00 0.00000000e+00 0.00000000e+00 0.00000000e+00]\n",
      " [0.00000000e+00 0.00000000e+00 0.00000000e+00 0.00000000e+00\n",
      "  0.00000000e+00 0.00000000e+00 0.00000000e+00 0.00000000e+00\n",
      "  0.00000000e+00 0.00000000e+00 0.00000000e+00 0.00000000e+00]\n",
      " [0.00000000e+00 0.00000000e+00 0.00000000e+00 0.00000000e+00\n",
      "  0.00000000e+00 0.00000000e+00 0.00000000e+00 0.00000000e+00\n",
      "  0.00000000e+00 0.00000000e+00 0.00000000e+00 0.00000000e+00]]\n"
     ]
    }
   ],
   "source": [
    "train_network_growing(W,data,True)"
   ]
  },
  {
   "cell_type": "markdown",
   "metadata": {},
   "source": [
    "<div class=\"alert alert-success\">\n",
    "    \n",
    "**Exercise 2:**<br>\n",
    "- 1) Replace the false condition in train_cycle_growing, so that the network only produces a new neuron if: $activity < a_T$, $h(bmu) < h_T$ and there is no other active neuron with an activation counter of 1.\n",
    "- 2) Find the right thresholds $a_T$ and $h_T$ so that the networks ends up with as many neurons as there are classes.\n",
    "</div>"
   ]
  },
  {
   "cell_type": "markdown",
   "metadata": {},
   "source": [
    "<div class=\"alert alert-warning\">\n",
    "    \n",
    "**Hints:**<br>\n",
    "\n",
    "- (2) The networks begins with 2 output neurons. hence, $classes - 2$ neurons should be added during the training phase.\n",
    "\n",
    "</div>"
   ]
  },
  {
   "cell_type": "code",
   "execution_count": 16,
   "metadata": {},
   "outputs": [],
   "source": [
    "# %load solutions/code2.py"
   ]
  },
  {
   "cell_type": "code",
   "execution_count": 17,
   "metadata": {},
   "outputs": [
    {
     "name": "stdout",
     "output_type": "stream",
     "text": [
      "the  0 th class has activated neuron number  0  with a precision of  1.0\n",
      "the  1 th class has activated neuron number  1  with a precision of  1.0\n",
      "the  2 th class has activated neuron number  2  with a precision of  1.0\n",
      "the  3 th class has activated neuron number  3  with a precision of  1.0\n",
      "the  4 th class has activated neuron number  4  with a precision of  1.0\n",
      "the  5 th class has activated neuron number  5  with a precision of  1.0\n"
     ]
    }
   ],
   "source": [
    "test_network(W, 500, max_output_neurons, True)"
   ]
  },
  {
   "cell_type": "markdown",
   "metadata": {},
   "source": [
    "Hence, the growing neural network, having grown neurons in order to classify the different classes, reached a very good precision for each class as well."
   ]
  },
  {
   "cell_type": "markdown",
   "metadata": {},
   "source": [
    "<br><br>\n",
    "<div class=\"alert alert-block alert-info\"> \n",
    "    \n",
    "**NB:** When you classify more complex data, the network might grow more neurons than the number of classes you would like. However, if you want to use this network for classification, you can still consider each neuron activation as a subclass of the initial cluster you wanted. Hence, you could consider that inputs that activate a specific set of neurons belong to one cluster, the inputs that activate another specific set of neuron belong to another cluster, etc."
   ]
  },
  {
   "cell_type": "markdown",
   "metadata": {},
   "source": [
    "<br><br>\n",
    "# 5. <a id=\"sec5\"></a> How to classify more complex data"
   ]
  },
  {
   "cell_type": "markdown",
   "metadata": {},
   "source": [
    "### Adding Context Description\n",
    "Given that the input might be a temporal function (frames of a video, for instance), we might also like the neural network to take the context into account, that is to say to use the the context of the previous event in the computation of the distance. Each neuron will now consist of a weight vector $w_j \\in \\mathbb{R}^{n}$ and a number K of context descriptors $c_{j,k}\\in \\mathbb{R}^{n}$. \n",
    "The global context of the network, $C_{k} \\in  \\mathbb{R}^{n}$, will be computed as follow:\n",
    "\n",
    "\\begin{equation*}\n",
    "C_{k}(t) = \\beta w_{b}^{t-1} + (1-\\beta)c_{b,k}^{t-1}\n",
    "\\end{equation*}\n",
    "<br>Which is a is a linear combination of the context descriptors and the weights of the best macthing units at $t-1$. \n",
    "<br><br>\n",
    "The distance will now be computed the following way:\n",
    "\\begin{equation*}\n",
    "d_{j} = \\alpha_{0} \\lVert x (t) - w_{j}\\lVert^{2} + \\sum_{k=1}^{K}{\\lVert C_{k}(t) - c_{j,k}^{t}\\lVert^{2}}\n",
    "\\end{equation*}\n",
    "\n",
    "This is a way to take the context of the previous timestep in the determination of the future weights. The best matching unit would then be the one that have the weights the closest to the input, while having a context that matches best the global context.\n",
    "\n",
    "\n",
    "The context descriptors of the best matching unit would be updated at the same time and in the same way as its weights: <br><br>\n",
    "\\begin{equation*}\n",
    "\\Delta c_{i,k} = \\epsilon_{i}h_{i}(C_{k}(t)-c_{i,k}),h_i \\in [0,1] \n",
    "\\end{equation*}"
   ]
  },
  {
   "cell_type": "markdown",
   "metadata": {},
   "source": [
    "### The GDM library\n",
    "from https://github.com/giparisi/GDM, and https://github.com/giparisi/gwr-tb. <br>\n",
    "It can provide you with most of the tools needed for self-growing neural networks, and some examples in order to help you getting familiar with it. \n",
    "<br><br>"
   ]
  },
  {
   "cell_type": "code",
   "execution_count": 18,
   "metadata": {},
   "outputs": [
    {
     "name": "stdout",
     "output_type": "stream",
     "text": [
      "IRIS from ./GDM_master/data/iris.csv loaded.\n",
      "PULSAR from ./GDM_master/data/pulsar_stars.csv loaded.\n"
     ]
    }
   ],
   "source": [
    "from GDM_master.static import Static\n",
    "from GDM_master.gammagwr import GammaGWR\n",
    "import GDM_master.gtls as gtls\n",
    "import matplotlib.pyplot as plt\n",
    "import numpy as np\n",
    "\n",
    "ds_iris = gtls.IrisDataset(file='./GDM_master/data/iris.csv', normalize=True)\n",
    "print(\"%s from %s loaded.\" % (ds_iris.name, ds_iris.file)) \n",
    "\n",
    "ds_pulsar = gtls.PulsarDataset(file='./GDM_master/data/pulsar_stars.csv', normalize=True)\n",
    "print(\"%s from %s loaded.\" % (ds_pulsar.name, ds_pulsar.file)) "
   ]
  },
  {
   "cell_type": "markdown",
   "metadata": {},
   "source": [
    "<br><br>\n",
    "\n",
    "#### Step 1: Initialize\n",
    "\n",
    "GammaGWR: Growing When Required Network with temporal context\n",
    "\n",
    "In order to understand how it works, we will give you the choice of the dataset:\n",
    "- iris = 1, iris dataset: https://en.wikipedia.org/wiki/Iris_flower_data_set\n",
    "- iris = 0, pulsar dataset: https://www.kaggle.com/pavanraj159/predicting-a-pulsar-star\n",
    "<br><br>"
   ]
  },
  {
   "cell_type": "code",
   "execution_count": 19,
   "metadata": {},
   "outputs": [],
   "source": [
    "#iris ou pulsar ?\n",
    "iris = 1;\n",
    "\n",
    "taux = 0.7\n",
    "\n",
    "\n",
    "if(iris == 1):\n",
    "    ds = gtls.IrisDataset(file='./GDM_master/data/iris.csv', normalize=True)\n",
    "    \n",
    "    t = int(taux*len(ds.labels))\n",
    "    ds_train = gtls.IrisDataset(file='./GDM_master/data/iris.csv', normalize=True)\n",
    "    ds_train.labels = ds_train.labels[:t]\n",
    "    ds_train.vectors = ds_train.vectors[:t]\n",
    "\n",
    "    ds_test = gtls.IrisDataset(file='./GDM_master/data/iris.csv', normalize=True)\n",
    "    ds_test.labels = ds_test.labels[t:]\n",
    "    ds_test.vectors = ds_test.vectors[t:]\n",
    "    \n",
    "else:\n",
    "    ds = gtls.PulsarDataset(file='./GDM_master/data/pulsar_stars.csv', normalize=True)\n",
    "    \n",
    "    t = int(taux*len(ds.labels))\n",
    "    ds_train = gtls.PulsarDataset(file='./GDM_master/data/pulsar_stars.csv', normalize=True)\n",
    "    ds_train.labels = ds_train.labels[:t]\n",
    "    ds_train.vectors = ds_train.vectors[:t]\n",
    "\n",
    "    ds_test = gtls.PulsarDataset(file='./GDM_master/data/pulsar_stars.csv', normalize=True)\n",
    "    ds_test.labels = ds_test.labels[t:]\n",
    "    ds_test.vectors = ds_test.vectors[t:]"
   ]
  },
  {
   "cell_type": "code",
   "execution_count": 20,
   "metadata": {},
   "outputs": [
    {
     "name": "stdout",
     "output_type": "stream",
     "text": [
      "Randomly initialized weights: \n",
      "\n",
      "[0.83333333 0.375      0.89830508 0.70833333]\n",
      "[0.22222222 0.625      0.06779661 0.04166667]\n"
     ]
    }
   ],
   "source": [
    "g = GammaGWR()\n",
    "g.init_network(ds,1, True)"
   ]
  },
  {
   "cell_type": "markdown",
   "metadata": {},
   "source": [
    "<br><br>\n",
    "#### Step 2: Parametrize\n",
    "Choose the number of context descriptors, the nulber of epochs, the thresholds you wants to use, as well as the learning rates:"
   ]
  },
  {
   "cell_type": "code",
   "execution_count": 21,
   "metadata": {},
   "outputs": [
    {
     "name": "stdout",
     "output_type": "stream",
     "text": [
      "(Epoch: 1, NN: 25, ATQE: 0.1753045354408037)\n",
      "(Epoch: 2, NN: 44, ATQE: 0.08938371687057482)\n",
      "(-- Added  42 neuron(s) (total added - total deleted))\n",
      "(-- Removed 0 neuron(s))\n"
     ]
    }
   ],
   "source": [
    "num_context = 1 # number of context descriptors\n",
    "if(iris == 1):\n",
    "    epochs = 2 # epochs per sample for incremental learning\n",
    "else:\n",
    "    epochs = 1\n",
    "a_threshold = [0.95, 0.9]\n",
    "beta = 0.7\n",
    "learning_rates = [0.2, 0.001]\n",
    "context = True\n",
    "\n",
    "g.train_ggwr(ds_train, epochs, a_threshold[0], beta, learning_rates)"
   ]
  },
  {
   "cell_type": "markdown",
   "metadata": {},
   "source": [
    "<br><br>\n",
    "### Step 3: Test\n",
    "\n",
    "You can get the accuracy on your training set, as well as plot the spatial organization of your neural network (in 2D). For each input, the classification correspond to the color of the neuron activated."
   ]
  },
  {
   "cell_type": "code",
   "execution_count": 22,
   "metadata": {},
   "outputs": [
    {
     "name": "stdout",
     "output_type": "stream",
     "text": [
      "test accuracy:  0.7111111111111111 \n",
      "\n",
      "you can also plot the spatial representation of the neural network in two dimensions: \n"
     ]
    },
    {
     "data": {
      "image/png": "[encoded data removed]",
      "text/plain": [
       "<Figure size 432x288 with 1 Axes>"
      ]
     },
     "metadata": {
      "needs_background": "light"
     },
     "output_type": "display_data"
    }
   ],
   "source": [
    "g.test_gammagwr(ds_test, test_accuracy=True)\n",
    "print('test accuracy: ',g.test_accuracy, '\\n')\n",
    "print('you can also plot the spatial representation of the neural network in two dimensions: ')\n",
    "gtls.plot_network(g, True, True) "
   ]
  },
  {
   "cell_type": "markdown",
   "metadata": {},
   "source": [
    "<br><br>\n",
    "# 6. <a id=\"sec6\"></a> Comparison of a dynamically grown and a static network"
   ]
  },
  {
   "cell_type": "markdown",
   "metadata": {},
   "source": [
    "gdm_demo_no_neurogenesis.py corresponds to a static network, while gdm_demo.py corresponds to a dynamic network, with the maximum number of neurons being equal to the static's one (30)."
   ]
  },
  {
   "cell_type": "code",
   "execution_count": 23,
   "metadata": {},
   "outputs": [
    {
     "name": "stdout",
     "output_type": "stream",
     "text": [
      "IRIS from GDM_master/data/iris.csv loaded.\n",
      "(Epoch: 1, NN: 30, ATQE: 0.09873118529377498)\n",
      "(Epoch: 1, NN: 30, ATQE: 0.05949469699143556)\n",
      "(Epoch: 1, NN: 30, ATQE: 0.20486375131460655)\n",
      "(Epoch: 1, NN: 30, ATQE: 0.07090032924287167)\n",
      "(Epoch: 1, NN: 30, ATQE: 0.10877387356548533)\n",
      "(Epoch: 1, NN: 30, ATQE: 0.07947152445000895)\n",
      "(Epoch: 1, NN: 30, ATQE: 0.12449254440461952)\n",
      "(Epoch: 1, NN: 30, ATQE: 0.08562081765930638)\n",
      "(Epoch: 1, NN: 30, ATQE: 0.120520958764572)\n",
      "(Epoch: 1, NN: 30, ATQE: 0.07750884136655031)\n",
      "(Epoch: 1, NN: 30, ATQE: 0.5763658824403568)\n",
      "(Epoch: 1, NN: 30, ATQE: 0.10718450267790654)\n",
      "(Epoch: 1, NN: 30, ATQE: 0.4972876766412499)\n",
      "(Epoch: 1, NN: 30, ATQE: 0.13073813385995314)\n",
      "(Epoch: 1, NN: 30, ATQE: 0.5109939677639186)\n",
      "(Epoch: 1, NN: 30, ATQE: 0.16960980236929143)\n",
      "(Epoch: 1, NN: 30, ATQE: 0.42977164885295116)\n",
      "(Epoch: 1, NN: 30, ATQE: 0.1997811254843711)\n",
      "(Epoch: 1, NN: 30, ATQE: 0.3425423347079026)\n",
      "(Epoch: 1, NN: 30, ATQE: 0.22356493024783908)\n",
      "(Epoch: 1, NN: 30, ATQE: 0.6656813652196004)\n",
      "(Epoch: 1, NN: 30, ATQE: 0.28107724026920555)\n",
      "(Epoch: 1, NN: 30, ATQE: 0.6007834529536497)\n",
      "(Epoch: 1, NN: 30, ATQE: 0.33214122135221114)\n",
      "(Epoch: 1, NN: 30, ATQE: 0.5222519623849485)\n",
      "(Epoch: 1, NN: 30, ATQE: 0.37685238592788883)\n",
      "(Epoch: 1, NN: 30, ATQE: 0.5097423617955219)\n",
      "(Epoch: 1, NN: 30, ATQE: 0.4193958606855401)\n",
      "(Epoch: 1, NN: 30, ATQE: 0.46332547848620653)\n",
      "(Epoch: 1, NN: 30, ATQE: 0.4574702682922557)\n",
      "Accuracy episodic: 0.6666666666666666, semantic: 0.3333333333333333\n"
     ]
    }
   ],
   "source": [
    "run GDM_master/gdm_demo_no_neurogenesis.py"
   ]
  },
  {
   "cell_type": "code",
   "execution_count": 24,
   "metadata": {},
   "outputs": [
    {
     "name": "stdout",
     "output_type": "stream",
     "text": [
      "IRIS from GDM_master/data/iris.csv loaded.\n",
      "(Epoch: 1, NN: 3, ATQE: 0.11883550955400879)\n",
      "(Epoch: 1, NN: 2, ATQE: 0.11534645740675378)\n",
      "(Epoch: 1, NN: 4, ATQE: 0.17329093375151952)\n",
      "(Epoch: 1, NN: 2, ATQE: 0.22083144127678606)\n",
      "(Epoch: 1, NN: 6, ATQE: 0.07195013980964265)\n",
      "(Epoch: 1, NN: 2, ATQE: 0.2185494372820073)\n",
      "(Epoch: 1, NN: 9, ATQE: 0.07776138070651302)\n",
      "(Epoch: 1, NN: 2, ATQE: 0.21119831924195515)\n",
      "(Epoch: 1, NN: 11, ATQE: 0.06799538057618562)\n",
      "(Epoch: 1, NN: 2, ATQE: 0.2237438105121481)\n",
      "(Epoch: 1, NN: 12, ATQE: 0.45914951167840706)\n",
      "(Epoch: 1, NN: 3, ATQE: 0.3852657135044016)\n",
      "(Epoch: 1, NN: 13, ATQE: 0.21250860796993237)\n",
      "(Epoch: 1, NN: 3, ATQE: 0.3538660321145711)\n",
      "(Epoch: 1, NN: 15, ATQE: 0.1476361456659508)\n",
      "(Epoch: 1, NN: 3, ATQE: 0.4408997544336498)\n",
      "(Epoch: 1, NN: 17, ATQE: 0.1336694040222312)\n",
      "(Epoch: 1, NN: 3, ATQE: 0.3937402093026719)\n",
      "(Epoch: 1, NN: 17, ATQE: 0.07844967159677999)\n",
      "(Epoch: 1, NN: 3, ATQE: 0.3792586127873371)\n",
      "(Epoch: 1, NN: 18, ATQE: 0.2308950942075511)\n",
      "(Epoch: 1, NN: 4, ATQE: 0.5887417745708643)\n",
      "(Epoch: 1, NN: 21, ATQE: 0.18966621310674092)\n",
      "(Epoch: 1, NN: 4, ATQE: 0.3562269303572706)\n",
      "(Epoch: 1, NN: 25, ATQE: 0.11024825130184479)\n",
      "(Epoch: 1, NN: 4, ATQE: 0.3903693817011767)\n",
      "(Epoch: 1, NN: 27, ATQE: 0.14989141423026203)\n",
      "(Epoch: 1, NN: 4, ATQE: 0.40759361305472036)\n",
      "(Epoch: 1, NN: 28, ATQE: 0.10806290212826623)\n",
      "(Epoch: 1, NN: 4, ATQE: 0.3983947768211077)\n",
      "\n",
      " 26  nodes were added to the episodic memory during the training \n",
      "\n",
      "2  nodes were added to the semantic memory during the training \n",
      "\n",
      "Accuracy episodic: 0.8066666666666666, semantic: 0.5866666666666667\n"
     ]
    }
   ],
   "source": [
    "run GDM_master/gdm_demo.py"
   ]
  },
  {
   "cell_type": "markdown",
   "metadata": {},
   "source": [
    "Hence, the accuracies from the self-growing network (0.81, 0.59) look far better, compared to the ones of the static network (0.66, 0.33), after only one epoch, with a maximum number of neurons of 20."
   ]
  },
  {
   "cell_type": "markdown",
   "metadata": {},
   "source": [
    "<br><br>\n",
    "# Catastrophic forgetting:<br>"
   ]
  },
  {
   "cell_type": "markdown",
   "metadata": {},
   "source": [
    "Let's try to find out wether neurogenesis helps overcoming catastrophic forgetting. To do so, I will compare a growing self-organising neural network to a static one, the number of neurons of the growing one being bounded by the static one. The tests will be performed on the MNIST dataset, seen previously. \n",
    "\n",
    "<br>\n",
    "\n",
    "### Adding a pre-trained network in front of it:\n",
    "You might wonder, given the relatively simple example we have used before, how to use this kind of networks in order to classify images. <br>\n",
    "Let's say that you would like to use $28$x$28$ RGB images, belonging to $10$ classes. Giving this growing neural network the pixels of those images as inputs would obviously be a disaster, given thesize of the dataset and the simplicity of the network, and you therefore need to extract features from those images before feeding those to the network. <br> <br>\n",
    "To do so, we will use a pre-trained network, already trained on the MNIST dataset. We will first get rid of its last two layers. The ouptuts of this network cleared of its last layers will therefore be the ones of the fully-connected hidden layer, which consist in 512 features, that will feed our self-organizing neural network.\n",
    "<img src='images/im6.png' width=\"800\" title='Using GWR networks on the MNIST dataset'>\n",
    "<br><br>\n",
    "Hence, this neural network will be fed with features coming out of the hidden layer of the pre-trained network, instead of the images themselves. Furthermore, in order to observe catastrophic forgetting, both the static and the growing neural network will be fed with the training data per label. (The images corresponding to the 1s first, then the 2s, etc). After each training, we will test the networks on each label (the 1s, then the 2s, etc), in order to observe the performance of both. \n",
    "\n",
    "\n",
    "Finally, we will only use partially the MNIST dataset, so that the notebook can run in an acceptable time. "
   ]
  },
  {
   "cell_type": "code",
   "execution_count": 25,
   "metadata": {},
   "outputs": [
    {
     "name": "stderr",
     "output_type": "stream",
     "text": [
      "Using TensorFlow backend.\n"
     ]
    }
   ],
   "source": [
    "from keras.models import load_model\n",
    "from keras.utils import np_utils\n",
    "from keras.models import Model"
   ]
  },
  {
   "cell_type": "markdown",
   "metadata": {},
   "source": [
    "<br><br>\n",
    "#### 1. Load the MNIST data"
   ]
  },
  {
   "cell_type": "code",
   "execution_count": 26,
   "metadata": {},
   "outputs": [],
   "source": [
    "from keras.datasets import mnist\n",
    "(X_train, y_train), (X_test, y_test) = mnist.load_data()"
   ]
  },
  {
   "cell_type": "code",
   "execution_count": 27,
   "metadata": {},
   "outputs": [
    {
     "name": "stdout",
     "output_type": "stream",
     "text": [
      "Number of images for training: 60000\n",
      "Image size: (28, 28)\n",
      "Number of images for testing: 10000\n",
      "(60000, 784)\n",
      "(10000, 784)\n"
     ]
    }
   ],
   "source": [
    "print(\"Number of images for training: {}\".format(X_train.shape[0]))\n",
    "print(\"Image size: {}\".format(X_train.shape[1:]))\n",
    "print(\"Number of images for testing: {}\".format(X_test.shape[0]))\n",
    "\n",
    "X_train = X_train.reshape(X_train.shape[0], 784)\n",
    "X_test  = X_test.reshape(X_test.shape[0], 784);\n",
    "print(X_train.shape)\n",
    "print(X_test.shape)\n",
    "Y_train = np_utils.to_categorical(y_train, 10)\n",
    "Y_test = np_utils.to_categorical(y_test, 10)"
   ]
  },
  {
   "cell_type": "markdown",
   "metadata": {},
   "source": [
    "<br>\n",
    "\n",
    "#### 2. Sort the data\n",
    "\n",
    "In order to experience catastrophic forgetting, we need to train the network on each task at a time (recognizing the 1s, then the 2s, etc)"
   ]
  },
  {
   "cell_type": "code",
   "execution_count": 28,
   "metadata": {},
   "outputs": [],
   "source": [
    "labels = range(1,10)\n",
    "\n",
    "def tri_dataset(X, y):\n",
    "    X_train_classes = [[] for i in labels]\n",
    "    for j in range(len(y)):\n",
    "        X_train_classes[y[j]-1].append(X[j])\n",
    "    return X_train_classes"
   ]
  },
  {
   "cell_type": "code",
   "execution_count": 29,
   "metadata": {},
   "outputs": [],
   "source": [
    "X_train_classes = np.array(tri_dataset(X_train, y_train))\n",
    "X_test_classes = np.array(tri_dataset(X_test, y_test))"
   ]
  },
  {
   "cell_type": "markdown",
   "metadata": {},
   "source": [
    "<br>\n",
    "\n",
    "#### 3. Load the pre-trained model, cleared of its last two layers\n",
    "You can find the preparation of this pre-trained model in the other_notebooks/Cutting the mnist model.ipynb notebook"
   ]
  },
  {
   "cell_type": "code",
   "execution_count": 30,
   "metadata": {},
   "outputs": [
    {
     "name": "stdout",
     "output_type": "stream",
     "text": [
      "WARNING:tensorflow:From /Users/axel/anaconda3/lib/python3.7/site-packages/tensorflow_core/python/ops/resource_variable_ops.py:1630: calling BaseResourceVariable.__init__ (from tensorflow.python.ops.resource_variable_ops) with constraint is deprecated and will be removed in a future version.\n",
      "Instructions for updating:\n",
      "If using Keras pass *_constraint arguments to layers.\n",
      "Model: \"model_1\"\n",
      "_________________________________________________________________\n",
      "Layer (type)                 Output Shape              Param #   \n",
      "=================================================================\n",
      "dense_1_input (InputLayer)   (None, 784)               0         \n",
      "_________________________________________________________________\n",
      "dense_1 (Dense)              (None, 512)               401920    \n",
      "_________________________________________________________________\n",
      "activation_1 (Activation)    (None, 512)               0         \n",
      "_________________________________________________________________\n",
      "dropout_1 (Dropout)          (None, 512)               0         \n",
      "_________________________________________________________________\n",
      "dense_2 (Dense)              (None, 512)               262656    \n",
      "_________________________________________________________________\n",
      "activation_2 (Activation)    (None, 512)               0         \n",
      "_________________________________________________________________\n",
      "dropout_2 (Dropout)          (None, 512)               0         \n",
      "=================================================================\n",
      "Total params: 664,576\n",
      "Trainable params: 0\n",
      "Non-trainable params: 664,576\n",
      "_________________________________________________________________\n",
      "for a given image, the output of the model is a (1,512) shaped array\n"
     ]
    },
    {
     "name": "stderr",
     "output_type": "stream",
     "text": [
      "/Users/axel/anaconda3/lib/python3.7/site-packages/keras/engine/saving.py:341: UserWarning: No training configuration found in save file: the model was *not* compiled. Compile it manually.\n",
      "  warnings.warn('No training configuration found in save file: '\n"
     ]
    }
   ],
   "source": [
    "model_popped = load_model('weights/model_popped.h5')\n",
    "for layer in model_popped._layers:\n",
    "    layer.trainable = False\n",
    "model_popped.summary()\n",
    "print('for a given image, the output of the model is a (1,512) shaped array')"
   ]
  },
  {
   "cell_type": "markdown",
   "metadata": {},
   "source": [
    "<br>\n",
    "\n",
    "#### 3. Process the dataset \n",
    "We will:\n",
    "- extract the features by feeding the data to the pre-trained network we loaded earlier\n",
    "- take the outputs, and create the training and testing datasets for our growing and static neural networks from the GDM library."
   ]
  },
  {
   "cell_type": "code",
   "execution_count": 31,
   "metadata": {},
   "outputs": [
    {
     "name": "stdout",
     "output_type": "stream",
     "text": [
      "WARNING:tensorflow:From /Users/axel/anaconda3/lib/python3.7/site-packages/keras/backend/tensorflow_backend.py:422: The name tf.global_variables is deprecated. Please use tf.compat.v1.global_variables instead.\n",
      "\n"
     ]
    }
   ],
   "source": [
    "# Getting the features, that is to say the output of the pre-trained NN:\n",
    "\n",
    "X_train_GWR = []\n",
    "for i in X_train_classes:\n",
    "    X_train_GWR.append(model_popped.predict(np.array(i))) \n",
    "X_train_GWR = np.array(X_train_GWR)\n",
    "\n",
    "\n",
    "X_test_GWR = []\n",
    "for i in X_test_classes:\n",
    "    X_test_GWR.append(model_popped.predict(np.array(i)))\n",
    "X_test_GWR = np.array(X_test_GWR)"
   ]
  },
  {
   "cell_type": "code",
   "execution_count": 32,
   "metadata": {},
   "outputs": [],
   "source": [
    "\"\"\" We will only feed the GWR and static networks with 300 items per tasks, \n",
    "so that it can run smoothly on your computer.\n",
    " You can modify those if you want \"\"\"\n",
    "ds_train_list = []\n",
    "ds_test_list = []\n",
    "for j in range(9):\n",
    "    ds_train_list.append(gtls.OwnDataset(X_train_GWR[j][:150], np.array([j+1 for k in range(300)]), 10,normalize=True))\n",
    "    ds_train_list.append(gtls.OwnDataset(X_train_GWR[j][150:300], np.array([j+1 for k in range(300)]), 10,normalize=True))\n",
    "    ds_test_list.append(gtls.OwnDataset(X_test_GWR[j][:300], np.array([j+1 for k in range(300)]), 10,normalize=True))"
   ]
  },
  {
   "cell_type": "markdown",
   "metadata": {},
   "source": [
    "<br><br>\n",
    "#### 3. Initialize the networks\n",
    "- a static network with 400 neurons\n",
    "- a growing when required one, with less than 400 neurons"
   ]
  },
  {
   "cell_type": "code",
   "execution_count": 33,
   "metadata": {},
   "outputs": [],
   "source": [
    "g_static = Static()\n",
    "g_static.init_network(ds_train_list[0],1)"
   ]
  },
  {
   "cell_type": "code",
   "execution_count": 34,
   "metadata": {},
   "outputs": [],
   "source": [
    "g = GammaGWR()\n",
    "g.init_network(ds_train_list[0],1)"
   ]
  },
  {
   "cell_type": "markdown",
   "metadata": {},
   "source": [
    "<br><br> \n",
    "#### 4. Parametrize the models: "
   ]
  },
  {
   "cell_type": "code",
   "execution_count": 35,
   "metadata": {},
   "outputs": [],
   "source": [
    "num_context = 1 # number of context descriptors\n",
    "epochs = 1 # epochs per sample for incremental learning\n",
    "a_threshold = [0.95, 0.9]\n",
    "beta = 0.7\n",
    "learning_rates = [0.2, 0.001]\n",
    "context = True"
   ]
  },
  {
   "cell_type": "markdown",
   "metadata": {},
   "source": [
    "#### 5. Train the models on each task:\n",
    "We will collect, the accuracy of the model on all the tasks, mid training, and at the end of the training of each task. (The tasks being here the recognition of a specific number on images)"
   ]
  },
  {
   "cell_type": "markdown",
   "metadata": {},
   "source": [
    "<br>Training of the static network:\n",
    "<br>"
   ]
  },
  {
   "cell_type": "code",
   "execution_count": 36,
   "metadata": {},
   "outputs": [
    {
     "name": "stdout",
     "output_type": "stream",
     "text": [
      "\n",
      " \n",
      " training on label 1 \n",
      "\n",
      "(Epoch: 1, NN: 400, ATQE: 2.934164778611412)\n",
      "accuracies:  [1.0, 0.0, 0.0, 0.0, 0.0, 0.0, 0.0, 0.0, 0.0]\n",
      "\n",
      " \n",
      " training on label 1 \n",
      "\n",
      "(Epoch: 1, NN: 400, ATQE: 2.9485943758441464)\n",
      "accuracies:  [1.0, 0.0, 0.0, 0.0, 0.0, 0.0, 0.0, 0.0, 0.0]\n",
      "\n",
      " \n",
      " training on label 2 \n",
      "\n",
      "(Epoch: 1, NN: 400, ATQE: 3.6933314265560533)\n",
      "accuracies:  [1.0, 0.0, 0.0, 0.0, 0.0, 0.0, 0.0, 0.0, 0.0]\n",
      "\n",
      " \n",
      " training on label 2 \n",
      "\n",
      "(Epoch: 1, NN: 400, ATQE: 3.3438902464078044)\n",
      "accuracies:  [0.0, 1.0, 0.0, 0.0, 0.0, 0.0, 0.0, 0.0, 0.0]\n",
      "\n",
      " \n",
      " training on label 3 \n",
      "\n",
      "(Epoch: 1, NN: 400, ATQE: 3.6940467132314687)\n",
      "accuracies:  [0.0, 1.0, 0.0, 0.0, 0.0, 0.0, 0.0, 0.0, 0.0]\n",
      "\n",
      " \n",
      " training on label 3 \n",
      "\n",
      "(Epoch: 1, NN: 400, ATQE: 3.2223809869744975)\n",
      "accuracies:  [0.0, 0.0, 1.0, 0.0, 0.0, 0.0, 0.0, 0.0, 0.0]\n",
      "\n",
      " \n",
      " training on label 4 \n",
      "\n",
      "(Epoch: 1, NN: 400, ATQE: 3.7871583375175444)\n",
      "accuracies:  [0.0, 0.0, 1.0, 0.0, 0.0, 0.0, 0.0, 0.0, 0.0]\n",
      "\n",
      " \n",
      " training on label 4 \n",
      "\n",
      "(Epoch: 1, NN: 400, ATQE: 3.244998531442737)\n",
      "accuracies:  [0.0, 0.0, 0.0, 1.0, 0.0, 0.0, 0.0, 0.0, 0.0]\n",
      "\n",
      " \n",
      " training on label 5 \n",
      "\n",
      "(Epoch: 1, NN: 400, ATQE: 3.8667853129922256)\n",
      "accuracies:  [0.0, 0.0, 0.0, 1.0, 0.0, 0.0, 0.0, 0.0, 0.0]\n",
      "\n",
      " \n",
      " training on label 5 \n",
      "\n",
      "(Epoch: 1, NN: 400, ATQE: 3.4242385327149223)\n",
      "accuracies:  [0.0, 0.0, 0.0, 0.0, 1.0, 0.0, 0.0, 0.0, 0.0]\n",
      "\n",
      " \n",
      " training on label 6 \n",
      "\n",
      "(Epoch: 1, NN: 400, ATQE: 3.891662819813287)\n",
      "accuracies:  [0.0, 0.0, 0.0, 0.0, 1.0, 0.0, 0.0, 0.0, 0.0]\n",
      "\n",
      " \n",
      " training on label 6 \n",
      "\n",
      "(Epoch: 1, NN: 400, ATQE: 3.4051973707622163)\n",
      "accuracies:  [0.0, 0.0, 0.0, 0.0, 0.0, 1.0, 0.0, 0.0, 0.0]\n",
      "\n",
      " \n",
      " training on label 7 \n",
      "\n",
      "(Epoch: 1, NN: 400, ATQE: 3.6209911670803097)\n",
      "accuracies:  [0.0, 0.0, 0.0, 0.0, 0.0, 1.0, 0.0, 0.0, 0.0]\n",
      "\n",
      " \n",
      " training on label 7 \n",
      "\n",
      "(Epoch: 1, NN: 400, ATQE: 3.230485733421565)\n",
      "accuracies:  [0.0, 0.0, 0.0, 0.0, 0.0, 0.0, 1.0, 0.0, 0.0]\n",
      "\n",
      " \n",
      " training on label 8 \n",
      "\n",
      "(Epoch: 1, NN: 400, ATQE: 3.85772749060103)\n",
      "accuracies:  [0.0, 0.0, 0.0, 0.0, 0.0, 0.0, 1.0, 0.0, 0.0]\n",
      "\n",
      " \n",
      " training on label 8 \n",
      "\n",
      "(Epoch: 1, NN: 400, ATQE: 3.607129331621166)\n",
      "accuracies:  [0.0, 0.0, 0.0, 0.0, 0.0, 0.0, 0.0, 1.0, 0.0]\n",
      "\n",
      " \n",
      " training on label 9 \n",
      "\n",
      "(Epoch: 1, NN: 400, ATQE: 4.162567948410566)\n",
      "accuracies:  [0.0, 0.0, 0.0, 0.0, 0.0, 0.0, 0.0, 1.0, 0.0]\n",
      "\n",
      " \n",
      " training on label 9 \n",
      "\n",
      "(Epoch: 1, NN: 400, ATQE: 3.491688758073217)\n",
      "accuracies:  [0.0, 0.0, 0.0, 0.0, 0.0, 0.0, 0.0, 0.0, 1.0]\n"
     ]
    }
   ],
   "source": [
    "accuracies_static = []\n",
    "verbose = True\n",
    "\n",
    "for j in range(len(ds_train_list)):#9\n",
    "    if(verbose):\n",
    "        print('\\n \\n training on label', (j)//2 + 1 ,'\\n')\n",
    "    g_static.train(ds_train_list[j], epochs, a_threshold[0], beta, learning_rates)\n",
    "    accuracy_static = []\n",
    "    for k in range(9):\n",
    "        g_static.test_gammagwr(ds_test_list[k], test_accuracy=True)\n",
    "        accuracy_static.append(g_static.test_accuracy)\n",
    "    if(verbose):\n",
    "        print('accuracies: ',accuracy_static)\n",
    "    accuracies_static.append(accuracy_static)"
   ]
  },
  {
   "cell_type": "markdown",
   "metadata": {},
   "source": [
    "<br><br>Training of the growing when required network:"
   ]
  },
  {
   "cell_type": "code",
   "execution_count": 37,
   "metadata": {
    "scrolled": true
   },
   "outputs": [
    {
     "name": "stdout",
     "output_type": "stream",
     "text": [
      "\n",
      " \n",
      " training on label 1 \n",
      "\n",
      "(Epoch: 1, NN: 40, ATQE: 2.522107651956618)\n",
      "(-- Added  38 neuron(s) (total added - total deleted))\n",
      "(-- Removed 0 neuron(s))\n",
      "accuracies:  [1.0, 0.0, 0.0, 0.0, 0.0, 0.0, 0.0, 0.0, 0.0]\n",
      "\n",
      " \n",
      " training on label 1 \n",
      "\n",
      "(Epoch: 1, NN: 74, ATQE: 2.13373059431886)\n",
      "(-- Added  72 neuron(s) (total added - total deleted))\n",
      "(-- Removed 0 neuron(s))\n",
      "accuracies:  [1.0, 0.0, 0.0, 0.0, 0.0, 0.0, 0.0, 0.0, 0.0]\n",
      "\n",
      " \n",
      " training on label 2 \n",
      "\n",
      "(Epoch: 1, NN: 116, ATQE: 3.190847537124121)\n",
      "(-- Added  114 neuron(s) (total added - total deleted))\n",
      "(-- Removed 0 neuron(s))\n",
      "accuracies:  [0.97, 0.9966666666666667, 0.0, 0.0, 0.0, 0.0, 0.0, 0.0, 0.0]\n",
      "\n",
      " \n",
      " training on label 2 \n",
      "\n",
      "(Epoch: 1, NN: 150, ATQE: 2.78529778180537)\n",
      "(-- Added  148 neuron(s) (total added - total deleted))\n",
      "(-- Removed 0 neuron(s))\n",
      "accuracies:  [0.97, 0.9966666666666667, 0.0, 0.0, 0.0, 0.0, 0.0, 0.0, 0.0]\n",
      "\n",
      " \n",
      " training on label 3 \n",
      "\n",
      "(Epoch: 1, NN: 150, ATQE: 3.5115431740257925)\n",
      "(-- Added  148 neuron(s) (total added - total deleted))\n",
      "(-- Removed 3 neuron(s))\n",
      "accuracies:  [0.97, 0.9, 0.9766666666666667, 0.0, 0.0, 0.0, 0.0, 0.0, 0.0]\n",
      "\n",
      " \n",
      " training on label 3 \n",
      "\n",
      "(Epoch: 1, NN: 150, ATQE: 3.030369545740099)\n",
      "(-- Added  148 neuron(s) (total added - total deleted))\n",
      "(-- Removed 65 neuron(s))\n",
      "accuracies:  [0.88, 0.8933333333333333, 0.97, 0.0, 0.0, 0.0, 0.0, 0.0, 0.0]\n",
      "\n",
      " \n",
      " training on label 4 \n",
      "\n",
      "(Epoch: 1, NN: 130, ATQE: 3.0510141333101672)\n",
      "(-- Added  128 neuron(s) (total added - total deleted))\n",
      "(-- Removed 5 neuron(s))\n",
      "accuracies:  [0.6533333333333333, 0.8866666666666667, 0.9633333333333334, 0.98, 0.0, 0.0, 0.0, 0.0, 0.0]\n",
      "\n",
      " \n",
      " training on label 4 \n",
      "\n",
      "(Epoch: 1, NN: 150, ATQE: 2.7789803857313684)\n",
      "(-- Added  148 neuron(s) (total added - total deleted))\n",
      "(-- Removed 45 neuron(s))\n",
      "accuracies:  [0.7066666666666667, 0.8, 0.9566666666666667, 0.9933333333333333, 0.0, 0.0, 0.0, 0.0, 0.0]\n",
      "\n",
      " \n",
      " training on label 5 \n",
      "\n",
      "(Epoch: 1, NN: 148, ATQE: 3.028129511135005)\n",
      "(-- Added  146 neuron(s) (total added - total deleted))\n",
      "(-- Removed 11 neuron(s))\n",
      "accuracies:  [0.7233333333333334, 0.7733333333333333, 0.8833333333333333, 0.9933333333333333, 0.95, 0.0, 0.0, 0.0, 0.0]\n",
      "\n",
      " \n",
      " training on label 5 \n",
      "\n",
      "(Epoch: 1, NN: 150, ATQE: 2.7323218952243686)\n",
      "(-- Added  148 neuron(s) (total added - total deleted))\n",
      "(-- Removed 10 neuron(s))\n",
      "accuracies:  [0.72, 0.37666666666666665, 0.88, 0.9933333333333333, 0.9533333333333334, 0.0, 0.0, 0.0, 0.0]\n",
      "\n",
      " \n",
      " training on label 6 \n",
      "\n",
      "(Epoch: 1, NN: 150, ATQE: 3.225559451774989)\n",
      "(-- Added  148 neuron(s) (total added - total deleted))\n",
      "(-- Removed 5 neuron(s))\n",
      "accuracies:  [0.6933333333333334, 0.3433333333333333, 0.87, 0.95, 0.9333333333333333, 0.9066666666666666, 0.0, 0.0, 0.0]\n",
      "\n",
      " \n",
      " training on label 6 \n",
      "\n",
      "(Epoch: 1, NN: 150, ATQE: 2.938800336737905)\n",
      "(-- Added  148 neuron(s) (total added - total deleted))\n",
      "(-- Removed 55 neuron(s))\n",
      "accuracies:  [0.6966666666666667, 0.35, 0.8766666666666667, 0.94, 0.9233333333333333, 0.9466666666666667, 0.0, 0.0, 0.0]\n",
      "\n",
      " \n",
      " training on label 7 \n",
      "\n",
      "(Epoch: 1, NN: 135, ATQE: 2.940686911586912)\n",
      "(-- Added  133 neuron(s) (total added - total deleted))\n",
      "(-- Removed 11 neuron(s))\n",
      "accuracies:  [0.26, 0.33, 0.7833333333333333, 0.9066666666666666, 0.9133333333333333, 0.93, 0.9633333333333334, 0.0, 0.0]\n",
      "\n",
      " \n",
      " training on label 7 \n",
      "\n",
      "(Epoch: 1, NN: 150, ATQE: 2.622654129387764)\n",
      "(-- Added  148 neuron(s) (total added - total deleted))\n",
      "(-- Removed 39 neuron(s))\n",
      "accuracies:  [0.25666666666666665, 0.33, 0.8766666666666667, 0.9, 0.8866666666666667, 0.93, 0.9666666666666667, 0.0, 0.0]\n",
      "\n",
      " \n",
      " training on label 8 \n",
      "\n",
      "(Epoch: 1, NN: 150, ATQE: 3.1703892919892014)\n",
      "(-- Added  148 neuron(s) (total added - total deleted))\n",
      "(-- Removed 5 neuron(s))\n",
      "accuracies:  [0.24666666666666667, 0.33, 0.6733333333333333, 0.8966666666666666, 0.8133333333333334, 0.9266666666666666, 0.9533333333333334, 0.9166666666666666, 0.0]\n",
      "\n",
      " \n",
      " training on label 8 \n",
      "\n",
      "(Epoch: 1, NN: 150, ATQE: 3.1528155713572916)\n",
      "(-- Added  148 neuron(s) (total added - total deleted))\n",
      "(-- Removed 16 neuron(s))\n",
      "accuracies:  [0.24666666666666667, 0.33, 0.6966666666666667, 0.8966666666666666, 0.81, 0.92, 0.9533333333333334, 0.93, 0.0]\n",
      "\n",
      " \n",
      " training on label 9 \n",
      "\n",
      "(Epoch: 1, NN: 150, ATQE: 3.393810876024452)\n",
      "(-- Added  148 neuron(s) (total added - total deleted))\n",
      "(-- Removed 5 neuron(s))\n",
      "accuracies:  [0.023333333333333334, 0.3333333333333333, 0.6933333333333334, 0.8133333333333334, 0.8033333333333333, 0.9066666666666666, 0.94, 0.91, 0.9433333333333334]\n",
      "\n",
      " \n",
      " training on label 9 \n",
      "\n",
      "(Epoch: 1, NN: 150, ATQE: 3.015299307455767)\n",
      "(-- Added  148 neuron(s) (total added - total deleted))\n",
      "(-- Removed 51 neuron(s))\n",
      "accuracies:  [0.023333333333333334, 0.2633333333333333, 0.71, 0.87, 0.8066666666666666, 0.9133333333333333, 0.9233333333333333, 0.9133333333333333, 0.9466666666666667]\n"
     ]
    }
   ],
   "source": [
    "accuracies = []\n",
    "verbose = True\n",
    "\n",
    "for j in range(len(ds_train_list)):\n",
    "    if(verbose):\n",
    "        print('\\n \\n training on label', (j)//2 + 1 ,'\\n')\n",
    "    g.train_ggwr(ds_train_list[j], epochs, a_threshold[0], beta, learning_rates)\n",
    "    accuracy = []\n",
    "    for k in range(9):\n",
    "        g.test_gammagwr(ds_test_list[k], test_accuracy=True)\n",
    "        accuracy.append(g.test_accuracy)\n",
    "    if(verbose):\n",
    "        print('accuracies: ', accuracy)\n",
    "    accuracies.append(accuracy)"
   ]
  },
  {
   "cell_type": "markdown",
   "metadata": {},
   "source": [
    "<br>We observe that the training of the grow-when-required network is much faster than the static's one. Hence, the GWR grows less than 200 neurons, while the static network has 400 neurons from the beginning. <br><br>"
   ]
  },
  {
   "cell_type": "markdown",
   "metadata": {},
   "source": [
    "#### 6. Let's plot the model and the results:\n",
    "We will collect, the accuracy of the model on all the tasks, mid training, and at the end of the training of each task. (The tasks being here the recognition of a specific number on images)"
   ]
  },
  {
   "cell_type": "markdown",
   "metadata": {},
   "source": [
    "Static network:"
   ]
  },
  {
   "cell_type": "code",
   "execution_count": 38,
   "metadata": {},
   "outputs": [
    {
     "data": {
      "image/png": "[encoded data removed]",
      "text/plain": [
       "<Figure size 432x288 with 1 Axes>"
      ]
     },
     "metadata": {
      "needs_background": "light"
     },
     "output_type": "display_data"
    }
   ],
   "source": [
    "gtls.plot_network(g_static, True, True) "
   ]
  },
  {
   "cell_type": "markdown",
   "metadata": {},
   "source": [
    "Growing When Required network:"
   ]
  },
  {
   "cell_type": "code",
   "execution_count": 39,
   "metadata": {},
   "outputs": [
    {
     "data": {
      "image/png": "[encoded data removed]",
      "text/plain": [
       "<Figure size 432x288 with 1 Axes>"
      ]
     },
     "metadata": {
      "needs_background": "light"
     },
     "output_type": "display_data"
    }
   ],
   "source": [
    "gtls.plot_network(g, True, True) "
   ]
  },
  {
   "cell_type": "code",
   "execution_count": 40,
   "metadata": {},
   "outputs": [
    {
     "data": {
      "text/plain": [
       "Text(0.5, 1.0, 'Accuracy of the GWR network throughout the training')"
      ]
     },
     "execution_count": 40,
     "metadata": {},
     "output_type": "execute_result"
    },
    {
     "data": {
      "image/png": "[encoded data removed]",
      "text/plain": [
       "<Figure size 432x288 with 1 Axes>"
      ]
     },
     "metadata": {
      "needs_background": "light"
     },
     "output_type": "display_data"
    },
    {
     "data": {
      "image/png": "[encoded data removed]",
      "text/plain": [
       "<Figure size 432x288 with 1 Axes>"
      ]
     },
     "metadata": {
      "needs_background": "light"
     },
     "output_type": "display_data"
    }
   ],
   "source": [
    "plt.figure()\n",
    "for j in range(9):\n",
    "    plt.plot(np.linspace(0,10,18),[accuracies_static[k][j] for k in range(18)], label = 'label '+ str(j+1))#9 range(1,10),    \n",
    "plt.xlabel('% of the dataset/ task the network is being trained on')\n",
    "plt.ylabel('accuracy')\n",
    "plt.legend(bbox_to_anchor=(1, 0.8))\n",
    "plt.title('Accuracy of the static network on each task throughout the training') \n",
    "\n",
    "\n",
    "\n",
    "plt.figure()\n",
    "for j in range(9):\n",
    "    plt.plot(np.linspace(0,10,18),[accuracies[k][j] for k in range(18)], label = 'label '+ str(j+1))  \n",
    "plt.xlabel('% of the dataset/ task the network is being trained on')\n",
    "plt.ylabel('accuracy on testing set')\n",
    "plt.legend(bbox_to_anchor=(1, 0.8))\n",
    "plt.title('Accuracy of the GWR network throughout the training') "
   ]
  },
  {
   "cell_type": "markdown",
   "metadata": {},
   "source": [
    "While the accuracy on one task of the static network drops directly after learning another one, the growing when required network is able to retain some knowledge on the long run."
   ]
  },
  {
   "cell_type": "markdown",
   "metadata": {},
   "source": [
    "<br><br>\n",
    "\n",
    "# <a id=\"sec7\"></a> Conclusion"
   ]
  },
  {
   "cell_type": "markdown",
   "metadata": {},
   "source": [
    "- The Growing When Required network really mitigates the impact of catastrophic forgetting\n",
    "- The GWR can also be trained faster, as it only grows the needed number of neurons\n",
    "- In order to use the GWR networks on complex data, we need to put it rightly after the hidden layer of a pre-trained networks.\n",
    "- This was a simplified situation, with a reduced dataset, the static network would probably have performed better in other conditions, but we might as well expect the GWR network to perform even better as well.\n",
    "\n",
    "<br><br>"
   ]
  },
  {
   "cell_type": "markdown",
   "metadata": {},
   "source": [
    "## <a id=\"sec8\"></a> Sources:\n",
    "The followings were used in the making of this notebook:\n",
    "- https://u1093.u-bourgogne.fr/images/stories/labo/pdf/Elisabeth-Thomas/Cours/MVibot/kohonen_no_itvibot.pdf\n",
    "- https://github.com/giparisi/GDM/blob/master/gdm_demo.py\n",
    "- https://glowingpython.blogspot.com/2013/09/self-organizing-maps.html\n",
    "- https://github.com/giparisi/gwr-tb\n",
    "- https://glowingpython.blogspot.com/2013/09/self-organizing-maps.html\n",
    "- https://www.sciencedirect.com/science/article/pii/S0893608002000783\n",
    "- https://github.com/ariseff/overcoming-catastrophic/blob/master/experiment.ipynb\n",
    "- https://arxiv.org/pdf/1612.03770.pdf\n",
    "- https://github.com/ariseff/overcoming-catastrophic"
   ]
  }
 ],
 "metadata": {
  "kernelspec": {
   "display_name": "Python 3",
   "language": "python",
   "name": "python3"
  },
  "language_info": {
   "codemirror_mode": {
    "name": "ipython",
    "version": 3
   },
   "file_extension": ".py",
   "mimetype": "text/x-python",
   "name": "python",
   "nbconvert_exporter": "python",
   "pygments_lexer": "ipython3",
   "version": "3.7.3"
  }
 },
 "nbformat": 4,
 "nbformat_minor": 2
}
